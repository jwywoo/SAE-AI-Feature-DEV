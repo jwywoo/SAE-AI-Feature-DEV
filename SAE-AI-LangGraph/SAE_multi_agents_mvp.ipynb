{
  "nbformat": 4,
  "nbformat_minor": 0,
  "metadata": {
    "colab": {
      "provenance": [],
      "collapsed_sections": [
        "AvkhJ-0CGAiJ"
      ]
    },
    "kernelspec": {
      "name": "python3",
      "display_name": "Python 3"
    },
    "language_info": {
      "name": "python"
    }
  },
  "cells": [
    {
      "cell_type": "markdown",
      "source": [
        "# Colab Imports"
      ],
      "metadata": {
        "id": "YtVhicL1v7Pv"
      }
    },
    {
      "cell_type": "code",
      "execution_count": null,
      "metadata": {
        "colab": {
          "base_uri": "https://localhost:8080/"
        },
        "id": "-47R_NtxvsP4",
        "outputId": "1ecc1603-38c9-48eb-aac6-e3ecb1c18586"
      },
      "outputs": [
        {
          "output_type": "stream",
          "name": "stdout",
          "text": [
            "Drive already mounted at /content/drive; to attempt to forcibly remount, call drive.mount(\"/content/drive\", force_remount=True).\n"
          ]
        }
      ],
      "source": [
        "from google.colab import drive\n",
        "from google.colab import userdata\n",
        "drive.mount('/content/drive')"
      ]
    },
    {
      "cell_type": "markdown",
      "source": [
        "# Installation"
      ],
      "metadata": {
        "id": "G1RjnwfawFp2"
      }
    },
    {
      "cell_type": "code",
      "source": [
        "!pip -q install langgraph langchain_openai langchain_community tiktoken konlpy"
      ],
      "metadata": {
        "id": "yqa_3dnkwhF_"
      },
      "execution_count": null,
      "outputs": []
    },
    {
      "cell_type": "code",
      "source": [
        "!pip -q install langgraph langchain_openai langchain_community tiktoken konlpy langchain-pinecone pinecone-notebooks"
      ],
      "metadata": {
        "id": "4c7bqFBc5D0A"
      },
      "execution_count": null,
      "outputs": []
    },
    {
      "cell_type": "markdown",
      "source": [
        "# Settings & Loadings"
      ],
      "metadata": {
        "id": "pFD3cE5ewHRS"
      }
    },
    {
      "cell_type": "code",
      "source": [
        "import os\n",
        "import json\n",
        "import pandas as pd\n",
        "\n",
        "os.environ['OPENAI_API_KEY'] = userdata.get('OPENAI_API_KEY')\n",
        "\n",
        "PROFECT_DIR = os.path.join(\"/content/drive/MyDrive\", \"Profect SAE\")\n",
        "CSVs = os.path.join(PROFECT_DIR, \"test_data/CSVs\")\n",
        "files = os.listdir(CSVs)\n",
        "csv_files = [\n",
        "    file for file in files\n",
        "      if file.endswith(\".csv\")\n",
        "]\n",
        "\n",
        "df_one = pd.read_csv(os.path.join(CSVs, csv_files[0]))\n",
        "print(df_one.iloc[0])"
      ],
      "metadata": {
        "colab": {
          "base_uri": "https://localhost:8080/"
        },
        "id": "mpqOfVczwgq0",
        "outputId": "5d2ad25c-13bb-466d-fa30-28839fbdb006"
      },
      "execution_count": null,
      "outputs": [
        {
          "output_type": "stream",
          "name": "stdout",
          "text": [
            "title      [종합] 김태희, 해외서 권총 강도 당했다…'연매출 1100억' 정샘물 \"피해액 2...\n",
            "url        https://m.entertain.naver.com/article/312/0000...\n",
            "content    본문 바로가기 naver 엔터 뉴스 스포츠 사용자 링크 로그인 검색 홈 드라마 영화...\n",
            "Name: 0, dtype: object\n"
          ]
        }
      ]
    },
    {
      "cell_type": "markdown",
      "source": [
        "# Models, Schema & State\n",
        "- `gpt-4o-mini`\n",
        "- `text-embedding-3-large`"
      ],
      "metadata": {
        "id": "8JWhGHpTwKbA"
      }
    },
    {
      "cell_type": "code",
      "source": [
        "from langchain_openai import ChatOpenAI\n",
        "llm = ChatOpenAI(model_name=\"gpt-4o-mini\", temperature=0)"
      ],
      "metadata": {
        "id": "8X7BWTp2wgbG"
      },
      "execution_count": null,
      "outputs": []
    },
    {
      "cell_type": "code",
      "source": [
        "from pydantic import BaseModel, Field\n",
        "from typing import Optional, List\n",
        "\n",
        "class RequestDto(BaseModel):\n",
        "  title: str = Field(..., min_length=1)\n",
        "  url: str = Field(..., min_length=5, max_length=2083)\n",
        "  content: str = Field(..., min_length=1)\n",
        "\n",
        "class ResponseDto(BaseModel):\n",
        "  korean_name: str\n",
        "  english_name: str\n",
        "  ticker_code: str\n",
        "\n",
        "class FlowState(BaseModel):\n",
        "  request_dto: RequestDto\n",
        "  response_dto: List[ResponseDto]\n",
        "  route: str"
      ],
      "metadata": {
        "id": "03-KYetDyIlp"
      },
      "execution_count": null,
      "outputs": []
    },
    {
      "cell_type": "markdown",
      "source": [
        "# Agents, Nodes & Tools"
      ],
      "metadata": {
        "id": "T8jBf21-wMX3"
      }
    },
    {
      "cell_type": "markdown",
      "source": [
        "## Agents\n",
        "- Preprocessing Flow\n",
        "  - `preprocessing_routing_agent`\n",
        "  - `preprocessing_closing_agent`\n",
        "- Retriever Flow\n",
        " - `embedding_agent`\n",
        " - `retriever_agent`\n",
        "    - `retriever_init`\n",
        "    - `retrieved_vector_parser`"
      ],
      "metadata": {
        "id": "5tZ6y21Oxq8o"
      }
    },
    {
      "cell_type": "code",
      "source": [
        "import re\n",
        "\n",
        "def preprocessing_routing_agent(state: FlowState):\n",
        "  request_dto = state.request_dto\n",
        "\n",
        "  youtube_pattern = r\"^https?://(www\\.)?youtube\\.com\"\n",
        "  naver_news_pattern = r\"^https?://n\\.news\\.naver\\.com\"\n",
        "  naver_entertainment_pattern = r\"^https?://m\\.entertain\\.naver\\.com\"\n",
        "  naver_sports_pattern = r\"^https?://m\\.sports\\.naver\\.com\"\n",
        "\n",
        "  if re.match(naver_news_pattern, request_dto.url):\n",
        "      route = \"naver_news\"\n",
        "\n",
        "  elif re.match(naver_entertainment_pattern, request_dto.url):\n",
        "      route = \"naver_entertainment\"\n",
        "\n",
        "  elif re.match(naver_sports_pattern, request_dto.url):\n",
        "      route = \"naver_sports\"\n",
        "\n",
        "  elif re.match(youtube_pattern, request_dto.url):\n",
        "      route = \"youtube\"\n",
        "  else:\n",
        "      route = \"default\"\n",
        "\n",
        "  # Basic text cleaning\n",
        "\n",
        "  ## Title\n",
        "  request_dto.title = text_cleaning(request_dto.title)\n",
        "\n",
        "  ## Content\n",
        "  request_dto.content = text_cleaning(request_dto.content)\n",
        "\n",
        "  # Add route to the requestDto and return as a dictionary\n",
        "  state.route = route\n",
        "  return state"
      ],
      "metadata": {
        "id": "THF-0t1s7_gt"
      },
      "execution_count": null,
      "outputs": []
    },
    {
      "cell_type": "code",
      "source": [
        "korean_stopwords = [\n",
        "    \"아\", \"휴\", \"아이구\", \"아이쿠\", \"아이고\", \"어\", \"나\", \"우리\", \"저희\", \"따라\", \"의해\", \"을\", \"를\", \"에\", \"의\", \"가\",\n",
        "    \"으로\", \"로\", \"에게\", \"뿐이다\", \"의거하여\", \"근거하여\", \"입각하여\", \"기준으로\", \"예하면\", \"예를 들면\", \"예를 들자면\",\n",
        "    \"저\", \"소인\", \"소생\", \"저희\", \"지말고\", \"하지마\", \"하지마라\", \"다른\", \"물론\", \"또한\", \"그리고\", \"비길수 없다\", \"해서는 안된다\",\n",
        "    \"뿐만 아니라\", \"만이 아니다\", \"만은 아니다\", \"막론하고\", \"관계없이\", \"그치지 않다\", \"그러나\", \"그런데\", \"하지만\", \"든간에\",\n",
        "    \"논하지 않다\", \"따지지 않다\", \"설사\", \"비록\", \"더라도\", \"아니면\", \"만 못하다\", \"하는 편이 낫다\", \"불문하고\", \"향하여\",\n",
        "    \"향해서\", \"향하다\", \"쪽으로\", \"틈타\", \"이용하여\", \"타다\", \"오르다\", \"제외하고\", \"이 외에\", \"이 밖에\", \"하여야\",\n",
        "    \"비로소\", \"한다면 몰라도\", \"외에도\", \"이곳\", \"여기\", \"부터\", \"기점으로\", \"따라서\", \"할 생각이다\", \"하려고하다\",\n",
        "    \"이리하여\", \"그리하여\", \"그렇게 함으로써\", \"하지만\", \"일때\", \"할때\", \"앞에서\", \"중에서\", \"보는데서\", \"으로써\", \"로써\",\n",
        "    \"까지\", \"해야한다\", \"일것이다\", \"반드시\", \"할줄알다\", \"할수있다\", \"할수있어\", \"임에 틀림없다\", \"한다면\", \"등\", \"등등\",\n",
        "    \"제\", \"겨우\", \"단지\", \"다만\", \"할뿐\", \"딩동\", \"댕그\", \"대해서\", \"대하여\", \"대하면\", \"훨씬\", \"얼마나\", \"얼마만큼\",\n",
        "    \"얼마큼\", \"남짓\", \"여\", \"얼마간\", \"약간\", \"다소\", \"좀\", \"조금\", \"다수\", \"몇\", \"얼마\", \"지만\", \"하물며\", \"또한\",\n",
        "    \"그러나\", \"그렇지만\", \"하지만\", \"이외에도\", \"대해 말하자면\", \"뿐이다\", \"다음에\", \"반대로\", \"반대로 말하자면\",\n",
        "    \"이와 반대로\", \"바꾸어서 말하면\", \"바꾸어서 한다면\", \"만약\", \"그렇지않으면\", \"까악\", \"툭\", \"딱\", \"삐걱거리다\",\n",
        "    \"보드득\", \"비걱거리다\", \"꽈당\", \"응당\", \"해야한다\", \"에 가서\", \"각\", \"각각\", \"여러분\", \"각종\", \"각자\", \"제각기\",\n",
        "    \"하도록하다\", \"와\", \"과\", \"그러므로\", \"그래서\", \"고로\", \"한 까닭에\", \"하기 때문에\", \"거니와\", \"이지만\", \"대하여\",\n",
        "    \"관하여\", \"관한\", \"과연\", \"실로\", \"아니나다를가\", \"생각한대로\", \"진짜로\", \"한적이있다\", \"하곤하였다\", \"하\", \"하하\",\n",
        "    \"허허\", \"아하\", \"거바\", \"와\", \"오\", \"왜\", \"어째서\", \"무엇때문에\", \"어찌\", \"하겠는가\", \"무슨\", \"어디\", \"어느곳\",\n",
        "    \"더군다나\", \"하물며\", \"더욱이는\", \"어느때\", \"언제\", \"야\", \"이봐\", \"어이\", \"여보시오\", \"흐흐\", \"흥\", \"휴\", \"헉헉\",\n",
        "    \"헐떡헐떡\", \"영차\", \"여차\", \"어기여차\", \"끙끙\", \"아야\", \"앗\", \"아야\", \"콸콸\", \"졸졸\", \"좍좍\", \"뚝뚝\", \"주룩주룩\",\n",
        "    \"솨\", \"우르르\", \"그래도\", \"또\", \"그리고\", \"바꾸어말하면\", \"바꾸어말하자면\", \"혹은\", \"혹시\", \"답다\", \"및\", \"그에 따르는\",\n",
        "    \"때가 되어\", \"즉\", \"지든지\", \"설령\", \"가령\", \"하더라도\", \"할지라도\", \"일지라도\", \"지든지\", \"몇\", \"거의\", \"하마터면\",\n",
        "    \"인젠\", \"이젠\", \"된바에야\", \"된이상\", \"만큼\", \"어찌됏든\", \"그위에\", \"게다가\", \"점에서 보아\", \"비추어 보아\", \"고려하면\",\n",
        "    \"하게될것이다\", \"일것이다\", \"비교적\", \"좀\", \"보다더\", \"비하면\", \"시키다\", \"하게하다\", \"할만하다\", \"의해서\", \"연이서\",\n",
        "    \"이어서\", \"잇따라\", \"뒤따라\", \"뒤이어\", \"결국\", \"의지하여\", \"기대여\", \"통하여\", \"자마자\", \"더욱더\", \"불구하고\",\n",
        "    \"얼마든지\", \"마음대로\", \"주저하지 않고\", \"곧\", \"즉시\", \"바로\", \"당장\", \"하자마자\", \"밖에 안된다\", \"하면된다\", \"그래\",\n",
        "    \"그렇지\", \"요컨대\", \"다시 말하자면\", \"바꿔 말하면\", \"즉\", \"구체적으로\", \"말하자면\", \"시작하여\", \"시초에\", \"이상\", \"허\",\n",
        "    \"헉\", \"허걱\", \"바와같이\", \"해도좋다\", \"해도된다\", \"게다가\", \"더구나\", \"하물며\", \"와르르\", \"팍\", \"퍽\", \"펄렁\", \"동안\",\n",
        "    \"이래\", \"하고있었다\", \"이었다\", \"에서\", \"로부터\", \"까지\", \"예하면\", \"했어요\", \"해요\", \"함께\", \"같이\", \"더불어\", \"마저\",\n",
        "    \"마저도\", \"양자\", \"모두\", \"습니다\", \"가까스로\", \"하려고하다\", \"즈음하여\", \"다른\", \"다른 방면으로\", \"해봐요\", \"습니까\",\n",
        "    \"했어요\", \"말할것도 없고\", \"무릎쓰고\", \"개의치않고\", \"하는것만 못하다\", \"하는것이 낫다\", \"매\", \"매번\", \"들\", \"모\", \"어느것\",\n",
        "    \"어느\", \"로써\", \"갖고말하자면\", \"어디\", \"어느쪽\", \"어느것\", \"어느해\", \"어느 년도\", \"라 해도\", \"언젠가\", \"어떤것\", \"어느것\",\n",
        "    \"저기\", \"저쪽\", \"저것\", \"그때\", \"그럼\", \"그러면\", \"요만한걸\", \"그래\", \"그때\", \"저것만큼\", \"그저\", \"이르기까지\", \"할 줄 안다\",\n",
        "    \"할 힘이 있다\", \"너\", \"너희\", \"당신\", \"어찌\", \"설마\", \"차라리\", \"할지언정\", \"할지라도\", \"할망정\", \"할지언정\", \"년\", \"월\",\n",
        "    \"일\", \"하나\", \"둘\", \"셋\", \"넷\", \"다섯\", \"여섯\", \"일곱\", \"여덟\", \"아홉\"\n",
        "]"
      ],
      "metadata": {
        "id": "wEQJ2tnUvZGV"
      },
      "execution_count": null,
      "outputs": []
    },
    {
      "cell_type": "code",
      "source": [
        "from konlpy.tag import Okt\n",
        "\n",
        "def preprocessing_closing_agent(state: FlowState):\n",
        "  requestDto = state.request_dto\n",
        "  content = requestDto.content\n",
        "  okt = Okt()\n",
        "  content_tokens = okt.morphs(content)\n",
        "\n",
        "  result = [\n",
        "      word for word in content_tokens\n",
        "        if not word in korean_stopwords\n",
        "      ]\n",
        "  state.request_dto = RequestDto(title=requestDto.title, url=requestDto.url, content=\" \".join(result))\n",
        "  return state"
      ],
      "metadata": {
        "id": "ilBz_ggdtS2y"
      },
      "execution_count": null,
      "outputs": []
    },
    {
      "cell_type": "code",
      "source": [
        "def embedding_agent(state= FlowState) -> FlowState:\n",
        "  return state"
      ],
      "metadata": {
        "id": "ppNME3WX4wTm"
      },
      "execution_count": null,
      "outputs": []
    },
    {
      "cell_type": "code",
      "source": [
        "from langchain_pinecone import PineconeVectorStore\n",
        "from pinecone import Pinecone\n",
        "from pydantic import BaseModel\n",
        "from typing import List\n",
        "from langchain_openai import OpenAIEmbeddings\n",
        "import tiktoken\n",
        "\n",
        "pc = Pinecone(api_key=userdata.get('PINECONE-API-KEY'))\n",
        "\n",
        "def retrieved_vector_parser(given_vectors):\n",
        "    return [\n",
        "        ResponseDto(\n",
        "            korean_name=vector.metadata.get(\"korean_name\", \"N/A\"),\n",
        "            english_name=vector.metadata.get(\"english_name\", \"N/A\"),\n",
        "            ticker_code=vector.metadata.get(\"ticker_code\", \"N/A\")\n",
        "        )\n",
        "        for vector in given_vectors\n",
        "    ]\n",
        "\n",
        "def retriever_agent(state: FlowState):\n",
        "  text = f\"{state.request_dto.title}  {state.request_dto.content}\"\n",
        "  encoding = tiktoken.get_encoding(\"cl100k_base\")\n",
        "  print(state.request_dto.title)\n",
        "  print(len(encoding.encode(text)))\n",
        "\n",
        "  # Vector Store init\n",
        "  embeddings = OpenAIEmbeddings(model=\"text-embedding-3-large\")\n",
        "  kor_retriever = retriever_init(\"sae-embedded-stocks-kor\", embeddings, \"kospi-900\")\n",
        "  foriegn_retriever = retriever_init(\"sae-embedded-stocks-foriegn\", embeddings, \"nasdaq-1000\")\n",
        "\n",
        "  # Invoke\n",
        "  kor_result = retrieved_vector_parser(kor_retriever.invoke(text))\n",
        "  foriegn_result = retrieved_vector_parser(foriegn_retriever.invoke(text))\n",
        "  state.response_dto.extend(kor_result)\n",
        "  state.response_dto.extend(foriegn_result)\n",
        "  return state\n",
        "\n",
        "def retriever_init(index_name: str, embeddings, namespace):\n",
        "  index = pc.Index(index_name)\n",
        "  vector_store = PineconeVectorStore(index=index, embedding=embeddings)\n",
        "  return vector_store.as_retriever(\n",
        "    search_type=\"similarity_score_threshold\",\n",
        "    search_kwargs={\"k\": 2, \"score_threshold\": 0.65,\"namespace\": namespace},)\n"
      ],
      "metadata": {
        "id": "YwfV_vFG42JB"
      },
      "execution_count": null,
      "outputs": []
    },
    {
      "cell_type": "markdown",
      "source": [
        "## Tools\n",
        "- `text_cleaning`"
      ],
      "metadata": {
        "id": "AvkhJ-0CGAiJ"
      }
    },
    {
      "cell_type": "code",
      "source": [
        "from langchain_core.tools import tool\n",
        "\n",
        "@tool\n",
        "def text_cleaning(text: str) -> str:\n",
        "    \"\"\"Cleaning text by removing unnecessary characters and spaces.\"\"\"\n",
        "    if isinstance(text, str):\n",
        "        # Convert to lowercase\n",
        "        text = text.lower()\n",
        "        # Remove leading and trailing spaces\n",
        "        text = text.strip()\n",
        "        # Replace multiple spaces with a single space\n",
        "        text = re.sub(r'\\s+', ' ', text)\n",
        "        # Remove special characters except for common ones\n",
        "        text = re.sub(r'[^\\w\\s.,!?$%&@()-]', '', text)\n",
        "    return text"
      ],
      "metadata": {
        "id": "wtyDS2No8nRJ"
      },
      "execution_count": null,
      "outputs": []
    },
    {
      "cell_type": "markdown",
      "source": [
        "## Nodes\n",
        "- `naver_news_preprocessing`\n",
        "- `naver_entertainment_preprocessing`\n",
        "- `naver_sports_preprocessing`\n",
        "- `youtube_preprocessing`"
      ],
      "metadata": {
        "id": "EbjL-P4nxt25"
      }
    },
    {
      "cell_type": "code",
      "source": [
        "import re\n",
        "\n",
        "\n",
        "def content_preprocessing(text: str, remove_after: str = None, patterns: list = None) -> str:\n",
        "  if not isinstance(text, str):\n",
        "      return text\n",
        "\n",
        "  if remove_after:\n",
        "      text = re.sub(fr\"{remove_after}.*\", \"\", text, flags=re.IGNORECASE)\n",
        "\n",
        "  if patterns:\n",
        "    combined_pattern = \"|\".join(patterns)\n",
        "    text = re.sub(combined_pattern, \"\", text, flags=re.IGNORECASE)\n",
        "\n",
        "  # Remove excessive whitespace\n",
        "  text = re.sub(r\"\\s+\", \" \", text).strip()\n",
        "\n",
        "  return text\n",
        "\n",
        "def preprocessing_naver_news(state: FlowState):\n",
        "  requestDto = state.request_dto\n",
        "  \"\"\"Cleans Naver News content.\"\"\"\n",
        "  requestDto.content = content_preprocessing(requestDto.content, remove_after=\"copyright .*?\\. all rights reserved\")\n",
        "  requestDto.content = content_preprocessing(requestDto.content, remove_after=\"기사 공유하기\")\n",
        "  requestDto.content = content_preprocessing(requestDto.content, patterns = [\n",
        "          r\"본문 바로가기\", r\"naver\", r\"뉴스\", r\"엔터\", r\"스포츠\", r\"날씨\", r\"프리미엄\",\n",
        "          r\"사용자 링크\", r\"로그인\", r\"서비스\", r\"더보기\", r\"검색\", r\"언론사별\", r\"정치\",\n",
        "          r\"경제\", r\"사회\", r\"생활문화\", r\"it과학\", r\"세계\", r\"랭킹\", r\"신문보기\",\n",
        "          r\"오피니언\", r\"tv\", r\"팩트체크\", r\"알고리즘 안내\", r\"정정보도 모음\"])\n",
        "  return state\n",
        "\n",
        "def preprocessing_naver_entertainment(state: FlowState):\n",
        "  requestDto = state.request_dto\n",
        "  \"\"\"Cleans Naver Entertainment content.\"\"\"\n",
        "  requestDto.content = content_preprocessing(requestDto.content, remove_after=\"copyright .*?\\. all rights reserved\")\n",
        "  requestDto.content = content_preprocessing(requestDto.content, remove_after=\"기사 공유하기\")\n",
        "  requestDto.content = content_preprocessing(requestDto.content, patterns = [r\"본문 바로가기\", r\"naver\", r\"엔터\", r\"뉴스\", r\"스포츠\", r\"사용자 링크\", r\"로그인\", r\"검색\", r\"홈\", r\"드라마\", r\"영화\", r\"뮤직\", r\"연애\", r\"포토\", r\"랭킹\", r\"최신뉴스\", r\"연재\", r\"종합\"])\n",
        "  return state\n",
        "\n",
        "def preprocessing_naver_sports(state: FlowState):\n",
        "  requestDto = state.request_dto\n",
        "  \"\"\"Cleans Naver Sports content.\"\"\"\n",
        "  requestDto.content = content_preprocessing(requestDto.content, remove_after=\"copyright .*?\\. all rights reserved\")\n",
        "  requestDto.content = content_preprocessing(requestDto.content, remove_after=\"기사 공유하기\")\n",
        "  return state\n",
        "\n",
        "def preprocessing_youtube(state: FlowState):\n",
        "  requestDto = state.request_dto\n",
        "  \"\"\"Cleans YouTube transcript content.\"\"\"\n",
        "  requestDto.content = content_preprocessing(requestDto.content, remove_after=\"더보기\")\n",
        "  requestDto.content = content_preprocessing(requestDto.content, patterns = [r\"kr\", r\"탐색\", r\"건너뛰기\", r\"만들기\"])\n",
        "  return state"
      ],
      "metadata": {
        "id": "GrNOjUt8tXxL"
      },
      "execution_count": null,
      "outputs": []
    },
    {
      "cell_type": "code",
      "source": [
        "def response_parser(state= FlowState) -> FlowState:\n",
        "  return state"
      ],
      "metadata": {
        "id": "cEnG1kfU49o9"
      },
      "execution_count": null,
      "outputs": []
    },
    {
      "cell_type": "markdown",
      "source": [
        "# Flow"
      ],
      "metadata": {
        "id": "acCSDgjBwem2"
      }
    },
    {
      "cell_type": "code",
      "source": [
        "from langgraph.graph import StateGraph, START, END\n",
        "\n",
        "graph_blueprint = StateGraph(state_schema=FlowState)\n",
        "\n",
        "# Registring Nodes\n",
        "## Preprocessing\n",
        "graph_blueprint.add_node(\"preprocessing_routing_agent\",preprocessing_routing_agent)\n",
        "graph_blueprint.add_node(\"preprocessing_naver_news\",preprocessing_naver_news)\n",
        "graph_blueprint.add_node(\"preprocessing_naver_entertainment\",preprocessing_naver_entertainment)\n",
        "graph_blueprint.add_node(\"preprocessing_naver_sports\",preprocessing_naver_sports)\n",
        "graph_blueprint.add_node(\"preprocessing_youtube\",preprocessing_youtube)\n",
        "graph_blueprint.add_node(\"preprocessing_closing_agent\", preprocessing_closing_agent)\n",
        "## Retriever\n",
        "graph_blueprint.add_node(\"embedding_agent\", embedding_agent)\n",
        "graph_blueprint.add_node(\"retriever_agent\", retriever_agent)\n",
        "graph_blueprint.add_node(\"response_parser\", response_parser)\n",
        "\n",
        "# Registring edges\n",
        "# Start\n",
        "graph_blueprint.add_edge(START, \"preprocessing_routing_agent\")\n",
        "\n",
        "graph_blueprint.add_edge(\"preprocessing_naver_news\", \"preprocessing_closing_agent\")\n",
        "graph_blueprint.add_edge(\"preprocessing_naver_entertainment\", \"preprocessing_closing_agent\")\n",
        "graph_blueprint.add_edge(\"preprocessing_naver_sports\", \"preprocessing_closing_agent\")\n",
        "graph_blueprint.add_edge(\"preprocessing_youtube\", \"preprocessing_closing_agent\")\n",
        "\n",
        "## Preprocessing -> Retriever\n",
        "graph_blueprint.add_edge(\"preprocessing_closing_agent\", \"embedding_agent\")\n",
        "graph_blueprint.add_edge(\"embedding_agent\", \"retriever_agent\")\n",
        "graph_blueprint.add_edge(\"retriever_agent\", \"response_parser\")\n",
        "\n",
        "# End\n",
        "graph_blueprint.add_edge(\"response_parser\", END)\n",
        "\n",
        "# Conditional Edges\n",
        "graph_blueprint.add_conditional_edges(\n",
        "    \"preprocessing_routing_agent\",\n",
        "    lambda state: state.route,\n",
        "    {\n",
        "        \"naver_news\": \"preprocessing_naver_news\",\n",
        "        \"naver_entertainment\": \"preprocessing_naver_entertainment\",\n",
        "        \"naver_sports\": \"preprocessing_naver_sports\",\n",
        "        \"youtube\": \"preprocessing_youtube\",\n",
        "        \"default\": \"preprocessing_closing_agent\",\n",
        "    }\n",
        ")\n",
        "\n",
        "# Compiling\n",
        "agentic_rag_flow = graph_blueprint.compile()"
      ],
      "metadata": {
        "id": "s60TLuMft3T5"
      },
      "execution_count": null,
      "outputs": []
    },
    {
      "cell_type": "markdown",
      "source": [
        "# Visualization"
      ],
      "metadata": {
        "id": "BGVyo4YAwi6O"
      }
    },
    {
      "cell_type": "code",
      "source": [
        "# Visualize your graph\n",
        "from IPython.display import Image, display\n",
        "png = agentic_rag_flow.get_graph().draw_mermaid_png()\n",
        "display(Image(png))"
      ],
      "metadata": {
        "colab": {
          "base_uri": "https://localhost:8080/",
          "height": 771
        },
        "id": "aw-yhmFMwlUq",
        "outputId": "6a183f68-6f2c-4154-ca16-8cf7189f64fa"
      },
      "execution_count": null,
      "outputs": [
        {
          "output_type": "display_data",
          "data": {
            "image/png": "[encoded data removed]",
            "text/plain": [
              "<IPython.core.display.Image object>"
            ]
          },
          "metadata": {}
        }
      ]
    },
    {
      "cell_type": "markdown",
      "source": [
        "# Test"
      ],
      "metadata": {
        "id": "67DoUIGb3iLS"
      }
    },
    {
      "cell_type": "code",
      "source": [
        "print(len(df_one))"
      ],
      "metadata": {
        "id": "Zl_of0Pm-Q0o",
        "outputId": "1f5cd519-281b-49a0-fed9-ea025ba43aff",
        "colab": {
          "base_uri": "https://localhost:8080/"
        }
      },
      "execution_count": null,
      "outputs": [
        {
          "output_type": "stream",
          "name": "stdout",
          "text": [
            "33\n"
          ]
        }
      ]
    },
    {
      "cell_type": "code",
      "source": [
        "index = 0\n",
        "for row in df_one.itertuples(index=False):\n",
        "    request_dto = RequestDto(title=row.title, url=row.url, content=row.content)\n",
        "    response_dto = []\n",
        "    flow_state = FlowState(\n",
        "        request_dto=request_dto,\n",
        "        response_dto=response_dto,\n",
        "        route=\"\"\n",
        "      )\n",
        "    output = agentic_rag_flow.invoke(flow_state)\n",
        "    print()\n",
        "    for stock in output['response_dto']:\n",
        "      print(stock.korean_name, stock.ticker_code)\n",
        "    print(\"----------------------------\")\n",
        "    # if index == 10:\n",
        "    #     break\n",
        "    # index += 1"
      ],
      "metadata": {
        "colab": {
          "base_uri": "https://localhost:8080/"
        },
        "id": "KGL1PQROutu3",
        "outputId": "7fea4f28-0842-4b56-b0a6-a115e07ddfd4"
      },
      "execution_count": null,
      "outputs": [
        {
          "output_type": "stream",
          "name": "stdout",
          "text": [
            "종합 김태희, 해외서 권총 강도 당했다연매출 1100억 정샘물 피해액 2000만원(백억짜리)\n",
            "1338\n",
            "\n",
            "티와이홀딩스 363280\n",
            "한국화장품 123690\n",
            "헬렌 오브 트로이 HELE\n",
            "----------------------------\n",
            "연예계 불화 또 터졌다곽준빈, 유명 여배우에 막말 네가 무슨 배우야 (전현무계획)\n",
            "1309\n"
          ]
        },
        {
          "output_type": "stream",
          "name": "stderr",
          "text": [
            "WARNING:langchain_core.vectorstores.base:No relevant docs were retrieved using the relevance score threshold 0.65\n"
          ]
        },
        {
          "output_type": "stream",
          "name": "stdout",
          "text": [
            "\n",
            "IHQ 003560\n",
            "----------------------------\n",
            "시우민 뮤뱅 출연 거부 여파..이무진, 리무진서비스 녹화 돌연 불참 스타이슈\n",
            "1900\n"
          ]
        },
        {
          "output_type": "stream",
          "name": "stderr",
          "text": [
            "WARNING:langchain_core.vectorstores.base:No relevant docs were retrieved using the relevance score threshold 0.65\n",
            "WARNING:langchain_core.vectorstores.base:No relevant docs were retrieved using the relevance score threshold 0.65\n"
          ]
        },
        {
          "output_type": "stream",
          "name": "stdout",
          "text": [
            "\n",
            "----------------------------\n",
            "우효광 추자현, 폭풍 성장 子와 애틋한 재회..떨어져 지내 힘들었다\n",
            "1389\n"
          ]
        },
        {
          "output_type": "stream",
          "name": "stderr",
          "text": [
            "WARNING:langchain_core.vectorstores.base:No relevant docs were retrieved using the relevance score threshold 0.65\n",
            "WARNING:langchain_core.vectorstores.base:No relevant docs were retrieved using the relevance score threshold 0.65\n"
          ]
        },
        {
          "output_type": "stream",
          "name": "stdout",
          "text": [
            "\n",
            "----------------------------\n",
            "이혼숙려캠프 온가족 무직, 생활비 父 유산 2억 다 써 충격\n",
            "936\n"
          ]
        },
        {
          "output_type": "stream",
          "name": "stderr",
          "text": [
            "WARNING:langchain_core.vectorstores.base:No relevant docs were retrieved using the relevance score threshold 0.65\n",
            "WARNING:langchain_core.vectorstores.base:No relevant docs were retrieved using the relevance score threshold 0.65\n"
          ]
        },
        {
          "output_type": "stream",
          "name": "stdout",
          "text": [
            "\n",
            "----------------------------\n",
            "與 홍장원 이어 곽종근도 진술 조작 내란 아닌 내란몰이 사기극\n",
            "2329\n"
          ]
        },
        {
          "output_type": "stream",
          "name": "stderr",
          "text": [
            "WARNING:langchain_core.vectorstores.base:No relevant docs were retrieved using the relevance score threshold 0.65\n",
            "WARNING:langchain_core.vectorstores.base:No relevant docs were retrieved using the relevance score threshold 0.65\n"
          ]
        },
        {
          "output_type": "stream",
          "name": "stdout",
          "text": [
            "\n",
            "----------------------------\n",
            "안보실장 한미, 대북정책 반드시 사전에 긴밀히 공조하기로\n",
            "4070\n",
            "\n",
            "아이마켓코리아 122900\n",
            "미래에셋증권 006800\n",
            "모닝스타 MORN\n",
            "트럼프 미디어 & 테크놀로지 그룹 DJT\n",
            "----------------------------\n",
            "선관위 사무총장 특혜 채용 당사자 봐주지 않을것추가 조치 예고\n",
            "1532\n"
          ]
        },
        {
          "output_type": "stream",
          "name": "stderr",
          "text": [
            "WARNING:langchain_core.vectorstores.base:No relevant docs were retrieved using the relevance score threshold 0.65\n",
            "WARNING:langchain_core.vectorstores.base:No relevant docs were retrieved using the relevance score threshold 0.65\n"
          ]
        },
        {
          "output_type": "stream",
          "name": "stdout",
          "text": [
            "\n",
            "----------------------------\n",
            "민가 오폭 공군, 모든 항공기 비행 제한조종사 교육 착수\n",
            "1515\n"
          ]
        },
        {
          "output_type": "stream",
          "name": "stderr",
          "text": [
            "WARNING:langchain_core.vectorstores.base:No relevant docs were retrieved using the relevance score threshold 0.65\n",
            "WARNING:langchain_core.vectorstores.base:No relevant docs were retrieved using the relevance score threshold 0.65\n"
          ]
        },
        {
          "output_type": "stream",
          "name": "stdout",
          "text": [
            "\n",
            "----------------------------\n",
            "속보 이재명 국민의힘 제안 배우자 상속세 면제폐지 동의\n",
            "719\n"
          ]
        },
        {
          "output_type": "stream",
          "name": "stderr",
          "text": [
            "WARNING:langchain_core.vectorstores.base:No relevant docs were retrieved using the relevance score threshold 0.65\n",
            "WARNING:langchain_core.vectorstores.base:No relevant docs were retrieved using the relevance score threshold 0.65\n"
          ]
        },
        {
          "output_type": "stream",
          "name": "stdout",
          "text": [
            "\n",
            "----------------------------\n",
            "한국인들 신라면새우깡 없인 못 사는데가격 오른다\n",
            "1332\n"
          ]
        },
        {
          "output_type": "stream",
          "name": "stderr",
          "text": [
            "WARNING:langchain_core.vectorstores.base:No relevant docs were retrieved using the relevance score threshold 0.65\n"
          ]
        },
        {
          "output_type": "stream",
          "name": "stdout",
          "text": [
            "\n",
            "삼양식품 003230\n",
            "농심 004370\n",
            "----------------------------\n",
            "민주 홈플러스 법정관리 일파만파mbk 과도한 탐욕이 원인\n",
            "1574\n"
          ]
        },
        {
          "output_type": "stream",
          "name": "stderr",
          "text": [
            "WARNING:langchain_core.vectorstores.base:No relevant docs were retrieved using the relevance score threshold 0.65\n"
          ]
        },
        {
          "output_type": "stream",
          "name": "stdout",
          "text": [
            "\n",
            "현대홈쇼핑 057050\n",
            "HDC 012630\n",
            "----------------------------\n",
            "한국면세점협회 제10대 회장에 김동하 롯데면세점 대표이사\n",
            "733\n",
            "\n",
            "롯데쇼핑 023530\n",
            "롯데지주 004990\n",
            "스티븐 매든 SHOO\n",
            "코스트코 홀세일 COST\n",
            "----------------------------\n",
            "지난달 선박수주 中 1위韓은 다시 2위로\n",
            "962\n",
            "\n",
            "HD한국조선해양 009540\n",
            "HD현대중공업 329180\n",
            "골라 LNG GLNG\n",
            "골든 오션 그룹 GOGL\n",
            "----------------------------\n",
            "도시 생활물류 인프라 확충민관 논의 협의체 구성\n",
            "1056\n",
            "\n",
            "한진 002320\n",
            "HMM 011200\n",
            "트림블 TRMB\n",
            "사이아 SAIA\n",
            "----------------------------\n",
            "skt mwc 전시관에 7만명 몰려ai인프라 슈퍼 하이웨이 체험 인기\n",
            "1384\n",
            "\n",
            "SK텔레콤 017670\n",
            "LG유플러스 032640\n",
            "인터디지털 IDCC\n",
            "퀄컴 QCOM\n",
            "----------------------------\n",
            "찰나의 순간 변화, 빛으로 실시간 관측발광현상 등 정밀 조작 가능성\n",
            "1788\n",
            "\n",
            "솔루스첨단소재 336370\n",
            "참엔지니어링 009310\n",
            "펄스 바이오사이언스 PLSE\n",
            "IPG 포토닉스 IPGP\n",
            "----------------------------\n",
            "세계 공략할 비장의 무기는...4300억 벌겠다는 lg유플러스의 포부\n",
            "1926\n",
            "\n",
            "LG유플러스 032640\n",
            "한솔PNS 010420\n",
            "인터디지털 IDCC\n",
            "플렉스 FLEX\n",
            "----------------------------\n",
            "매달 2650만원 내야한다니...그래도 쓸 사람은 쓴다는 이것\n",
            "1332\n",
            "\n",
            "NAVER 035420\n",
            "템퍼스 AI TEM\n",
            "엔비디아 NVDA\n",
            "----------------------------\n",
            "폴더블 아이폰 나온다는데 가격이애플 마니아도 후덜덜\n",
            "1512\n",
            "\n",
            "에이피알 278470\n",
            "애플 AAPL\n",
            "앱폴리오 APPF\n",
            "----------------------------\n",
            "캐나다, 트럼프 관세 유예에 125조원 규모 2단계 대미 보복관세 연기\n",
            "1309\n"
          ]
        },
        {
          "output_type": "stream",
          "name": "stderr",
          "text": [
            "WARNING:langchain_core.vectorstores.base:No relevant docs were retrieved using the relevance score threshold 0.65\n"
          ]
        },
        {
          "output_type": "stream",
          "name": "stdout",
          "text": [
            "\n",
            "트럼프 미디어 & 테크놀로지 그룹 DJT\n",
            "----------------------------\n",
            "美우크라, 조만간 실무 회의정상회담 파행 봉합 수순?\n",
            "1242\n"
          ]
        },
        {
          "output_type": "stream",
          "name": "stderr",
          "text": [
            "WARNING:langchain_core.vectorstores.base:No relevant docs were retrieved using the relevance score threshold 0.65\n",
            "WARNING:langchain_core.vectorstores.base:No relevant docs were retrieved using the relevance score threshold 0.65\n"
          ]
        },
        {
          "output_type": "stream",
          "name": "stdout",
          "text": [
            "\n",
            "----------------------------\n",
            "트럼프 나토 국가들, 방위비 안 내면 방어 안 할 것\n",
            "1595\n"
          ]
        },
        {
          "output_type": "stream",
          "name": "stderr",
          "text": [
            "WARNING:langchain_core.vectorstores.base:No relevant docs were retrieved using the relevance score threshold 0.65\n"
          ]
        },
        {
          "output_type": "stream",
          "name": "stdout",
          "text": [
            "\n",
            "트럼프 미디어 & 테크놀로지 그룹 DJT\n",
            "----------------------------\n",
            "딥시크보다 저비용 고성능 ai 모델 내놓은 알리바바 주가 급등\n",
            "1044\n",
            "\n",
            "에이피알 278470\n",
            "타불라 TBLA\n",
            "바이두 ADR BIDU\n",
            "----------------------------\n",
            "트럼프 실세 머스크 반감에 애꿎은 이곳만 불탔다\n",
            "1586\n"
          ]
        },
        {
          "output_type": "stream",
          "name": "stderr",
          "text": [
            "WARNING:langchain_core.vectorstores.base:No relevant docs were retrieved using the relevance score threshold 0.65\n"
          ]
        },
        {
          "output_type": "stream",
          "name": "stdout",
          "text": [
            "\n",
            "테슬라 TSLA\n",
            "트럼프 미디어 & 테크놀로지 그룹 DJT\n",
            "----------------------------\n",
            "이정후, 시범경기 2호 홈런 폭발! (feat.현지해설) spotime - youtube\n",
            "328\n"
          ]
        },
        {
          "output_type": "stream",
          "name": "stderr",
          "text": [
            "WARNING:langchain_core.vectorstores.base:No relevant docs were retrieved using the relevance score threshold 0.65\n",
            "WARNING:langchain_core.vectorstores.base:No relevant docs were retrieved using the relevance score threshold 0.65\n"
          ]
        },
        {
          "output_type": "stream",
          "name": "stdout",
          "text": [
            "\n",
            "----------------------------\n",
            "뜨거운 열간 단조 기술로 대형 베어링을 만드는 과정. 놀라운 한국의 볼 베어링 공장 - youtube\n",
            "203\n",
            "\n",
            "한국특강 007280\n",
            "대창단조 015230\n",
            "캠텍 CAMT\n",
            "----------------------------\n",
            "일본 귀족이 평가하는 qwer... - youtube\n",
            "143\n"
          ]
        },
        {
          "output_type": "stream",
          "name": "stderr",
          "text": [
            "WARNING:langchain_core.vectorstores.base:No relevant docs were retrieved using the relevance score threshold 0.65\n",
            "WARNING:langchain_core.vectorstores.base:No relevant docs were retrieved using the relevance score threshold 0.65\n"
          ]
        },
        {
          "output_type": "stream",
          "name": "stdout",
          "text": [
            "\n",
            "----------------------------\n",
            "휴먼다큐 자식이 좋다 ep.02 엄마라는 이름으로 jamie맘 이소담 씨의 아찔한 라이딩 (20250225 방송) 이수지 핫이슈지 자식이좋다 - youtube\n",
            "273\n"
          ]
        },
        {
          "output_type": "stream",
          "name": "stderr",
          "text": [
            "WARNING:langchain_core.vectorstores.base:No relevant docs were retrieved using the relevance score threshold 0.65\n",
            "WARNING:langchain_core.vectorstores.base:No relevant docs were retrieved using the relevance score threshold 0.65\n"
          ]
        },
        {
          "output_type": "stream",
          "name": "stdout",
          "text": [
            "\n",
            "----------------------------\n",
            "국내 최초의 슈퍼카 제조업체(가 될뻔했던) 어울림 모터스에 대해 알아보자 - youtube\n",
            "198\n",
            "\n",
            "KR모터스 000040\n",
            "케이카 381970\n",
            "폴스타 오토모티브 홀딩 UK ADR PSNY\n",
            "빈패스트 오토 VFS\n",
            "----------------------------\n",
            "불붙은 무역전쟁 미국 최대 25% 관세 시작뉴욕증시-가상화폐 모두 타격  sbs 8뉴스 - youtube\n",
            "4823\n"
          ]
        },
        {
          "output_type": "stream",
          "name": "stderr",
          "text": [
            "WARNING:langchain_core.vectorstores.base:No relevant docs were retrieved using the relevance score threshold 0.65\n",
            "WARNING:langchain_core.vectorstores.base:No relevant docs were retrieved using the relevance score threshold 0.65\n"
          ]
        },
        {
          "output_type": "stream",
          "name": "stdout",
          "text": [
            "\n",
            "----------------------------\n",
            "속보오락가락 트럼프 관세 피로감나스닥 2.6%\n",
            "6455\n",
            "\n",
            "한국단자 025540\n",
            "신풍 002870\n",
            "데이브 DAVE\n",
            "----------------------------\n",
            "트럼프 행정부의 관세 정책과 통화 정책 감세와 관세의 상관 관계\n",
            "3626\n",
            "\n",
            "F&F홀딩스 007700\n",
            "SLR 인베스트먼트 SLRC\n",
            "인터랙티브 브로커스 그룹 IBKR\n",
            "----------------------------\n"
          ]
        }
      ]
    }
  ]
}