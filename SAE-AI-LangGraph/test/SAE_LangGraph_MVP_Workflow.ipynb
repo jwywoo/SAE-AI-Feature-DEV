{
  "nbformat": 4,
  "nbformat_minor": 0,
  "metadata": {
    "colab": {
      "provenance": []
    },
    "kernelspec": {
      "name": "python3",
      "display_name": "Python 3"
    },
    "language_info": {
      "name": "python"
    }
  },
  "cells": [
    {
      "cell_type": "markdown",
      "source": [
        "## Colab Imports"
      ],
      "metadata": {
        "id": "WBlTQsRlUN83"
      }
    },
    {
      "cell_type": "code",
      "source": [
        "from google.colab import drive\n",
        "from google.colab import userdata\n",
        "drive.mount('/content/drive')"
      ],
      "metadata": {
        "colab": {
          "base_uri": "https://localhost:8080/"
        },
        "id": "txCT1nZrTqva",
        "outputId": "d6ee268a-8ee8-427f-947c-9a8eed161155"
      },
      "execution_count": 93,
      "outputs": [
        {
          "output_type": "stream",
          "name": "stdout",
          "text": [
            "Drive already mounted at /content/drive; to attempt to forcibly remount, call drive.mount(\"/content/drive\", force_remount=True).\n"
          ]
        }
      ]
    },
    {
      "cell_type": "markdown",
      "source": [
        "## Installation"
      ],
      "metadata": {
        "id": "9AMME4T1UQ_Z"
      }
    },
    {
      "cell_type": "code",
      "execution_count": 94,
      "metadata": {
        "id": "e80DZ27LTmQN"
      },
      "outputs": [],
      "source": [
        "!pip -q install langgraph langchain_openai langchain_community"
      ]
    },
    {
      "cell_type": "markdown",
      "source": [
        "## Settings & Loadings"
      ],
      "metadata": {
        "id": "jxpum7IGU77d"
      }
    },
    {
      "cell_type": "code",
      "source": [
        "import os\n",
        "import json\n",
        "\n",
        "os.environ['OPENAI_API_KEY'] = userdata.get('OPENAI_API_KEY')\n",
        "\n",
        "PROFECT_DIR = os.path.join(\"/content/drive/MyDrive\", \"Profect SAE\")\n",
        "CSVs = os.path.join(PROFECT_DIR, \"test_data/CSVs\")\n",
        "files = os.listdir(CSVs)\n",
        "csv_files = [\n",
        "    file for file in files\n",
        "      if file.endswith(\".csv\")\n",
        "]"
      ],
      "metadata": {
        "id": "nkEBXCUeU4GR"
      },
      "execution_count": 95,
      "outputs": []
    },
    {
      "cell_type": "code",
      "source": [
        "import pandas as pd\n",
        "\n",
        "df_one = pd.read_csv(os.path.join(CSVs, csv_files[0]))"
      ],
      "metadata": {
        "id": "RBqCrl7sY8IS"
      },
      "execution_count": 96,
      "outputs": []
    },
    {
      "cell_type": "code",
      "source": [
        "test_row = df_one.iloc[0]\n",
        "print(test_row)"
      ],
      "metadata": {
        "colab": {
          "base_uri": "https://localhost:8080/"
        },
        "id": "1Q40w6rGadEm",
        "outputId": "b372a7a7-767f-482b-cb6e-b51abf8e26d5"
      },
      "execution_count": 97,
      "outputs": [
        {
          "output_type": "stream",
          "name": "stdout",
          "text": [
            "title      [종합] 김태희, 해외서 권총 강도 당했다…'연매출 1100억' 정샘물 \"피해액 2...\n",
            "url        https://m.entertain.naver.com/article/312/0000...\n",
            "content    본문 바로가기 naver 엔터 뉴스 스포츠 사용자 링크 로그인 검색 홈 드라마 영화...\n",
            "Name: 0, dtype: object\n"
          ]
        }
      ]
    },
    {
      "cell_type": "markdown",
      "source": [
        "## Models to use\n",
        "- `gpt-4o-mini`"
      ],
      "metadata": {
        "id": "0LLC2ie-6tOf"
      }
    },
    {
      "cell_type": "code",
      "source": [
        "from langchain_openai import ChatOpenAI\n",
        "\n",
        "llm = ChatOpenAI(model_name=\"gpt-4o-mini\", temperature=0)"
      ],
      "metadata": {
        "id": "TO90AoWV6tCv"
      },
      "execution_count": 98,
      "outputs": []
    },
    {
      "cell_type": "markdown",
      "source": [
        "## Nodes"
      ],
      "metadata": {
        "id": "vUFF3mPM6aYl"
      }
    },
    {
      "cell_type": "markdown",
      "source": [
        "### Schema"
      ],
      "metadata": {
        "id": "taUtI_G37W5f"
      }
    },
    {
      "cell_type": "code",
      "source": [
        "from pydantic import BaseModel, Field\n",
        "from typing import Optional, List\n",
        "\n",
        "class RequestDto(BaseModel):\n",
        "  title: str = Field(..., min_length=1)\n",
        "  url: str = Field(..., min_length=5, max_length=2083)\n",
        "  content: str = Field(..., min_length=1)"
      ],
      "metadata": {
        "id": "p2nemNS57BuG"
      },
      "execution_count": 99,
      "outputs": []
    },
    {
      "cell_type": "markdown",
      "source": [
        "### Preprocessing Agent"
      ],
      "metadata": {
        "id": "J6IvHbicBCFS"
      }
    },
    {
      "cell_type": "code",
      "source": [
        "import re\n",
        "from typing import Literal\n",
        "\n",
        "# Routing Node\n",
        "def preprocessing_agent(requestDto: RequestDto) -> dict:\n",
        "    youtube_pattern = r\"^https?://(www\\.)?youtube\\.com\"\n",
        "    naver_news_pattern = r\"^https?://n\\.news\\.naver\\.com\"\n",
        "    naver_entertainment_pattern = r\"^https?://m\\.entertain\\.naver\\.com\"\n",
        "    naver_sports_pattern = r\"^https?://m\\.sports\\.naver\\.com\"\n",
        "\n",
        "    if re.match(youtube_pattern, requestDto.url):\n",
        "        route = \"youtube_preprocessing\"\n",
        "\n",
        "    elif re.match(naver_news_pattern, requestDto.url):\n",
        "        route = \"naver_news_preprocessing\"\n",
        "\n",
        "    elif re.match(naver_entertainment_pattern, requestDto.url):\n",
        "        route = \"naver_entertainment_preprocessing\"\n",
        "\n",
        "    elif re.match(naver_sports_pattern, requestDto.url):\n",
        "        route = \"naver_sports_preprocessing\"\n",
        "\n",
        "    else:\n",
        "        route = \"default_preprocessing\"\n",
        "\n",
        "    # Add route to the requestDto and return as a dictionary\n",
        "    return {\"requestDto\": requestDto, \"route\": route}\n",
        "\n",
        "\n",
        "# Preprocessing Nodes\n",
        "def naver_news_preprocessing(requestDto):\n",
        "  return requestDto\n",
        "\n",
        "def naver_entertainment_preprocessing(requestDto):\n",
        "  return requestDto\n",
        "\n",
        "def naver_sports_preprocessing(requestDto):\n",
        "  return requestDto\n",
        "\n",
        "def youtube_preprocessing(requestDto):\n",
        "  return requestDto\n",
        "\n",
        "def default_preprocessing(requestDto):\n",
        "  return requestDto"
      ],
      "metadata": {
        "id": "M5TWCDMmbePB"
      },
      "execution_count": 100,
      "outputs": []
    },
    {
      "cell_type": "markdown",
      "source": [
        "### Retriever Agent"
      ],
      "metadata": {
        "id": "8QAYu3yABFlH"
      }
    },
    {
      "cell_type": "code",
      "source": [
        "def retriever_agent(requestDto):\n",
        "  print(requestDto.url)\n",
        "  return None"
      ],
      "metadata": {
        "id": "Xf3435PEBH7z"
      },
      "execution_count": 106,
      "outputs": []
    },
    {
      "cell_type": "markdown",
      "source": [
        "## State"
      ],
      "metadata": {
        "id": "HSNfrrHi6eRH"
      }
    },
    {
      "cell_type": "markdown",
      "source": [
        "## Flow"
      ],
      "metadata": {
        "id": "xslKfhbv6bXu"
      }
    },
    {
      "cell_type": "code",
      "source": [
        "from langgraph.graph import Graph, START, END\n",
        "\n",
        "workflow = Graph()\n",
        "\n",
        "# Registring nodes\n",
        "workflow.add_node(\"preprocessing_agent\", preprocessing_agent)\n",
        "workflow.add_node(\"naver_news_preprocessing\", naver_news_preprocessing)\n",
        "workflow.add_node(\"naver_entertainment_preprocessing\", naver_entertainment_preprocessing)\n",
        "workflow.add_node(\"naver_sports_preprocessing\", naver_sports_preprocessing)\n",
        "workflow.add_node(\"youtube_preprocessing\", youtube_preprocessing)\n",
        "workflow.add_node(\"default_preprocessing\", default_preprocessing)\n",
        "workflow.add_node(\"retriever_agent\", retriever_agent)\n",
        "\n",
        "\n",
        "# Registring edges\n",
        "workflow.add_edge(START, \"preprocessing_agent\")\n",
        "\n",
        "## Conditional edges\n",
        "workflow.add_conditional_edges(\n",
        "    \"preprocessing_agent\",\n",
        "    lambda output: output[\"route\"],\n",
        "    {\n",
        "        \"naver_news_preprocessing\": \"naver_news_preprocessing\",\n",
        "        \"naver_entertainment_preprocessing\": \"naver_entertainment_preprocessing\",\n",
        "        \"naver_sports_preprocessing\": \"naver_sports_preprocessing\",\n",
        "        \"youtube_preprocessing\": \"youtube_preprocessing\",\n",
        "        \"default_preprocessing\": \"default_preprocessing\",\n",
        "    }\n",
        ")\n",
        "\n",
        "workflow.add_edge(\"naver_news_preprocessing\", \"retriever_agent\")\n",
        "workflow.add_edge(\"naver_entertainment_preprocessing\", \"retriever_agent\")\n",
        "workflow.add_edge(\"naver_sports_preprocessing\", \"retriever_agent\")\n",
        "workflow.add_edge(\"youtube_preprocessing\", \"retriever_agent\")\n",
        "workflow.add_edge(\"default_preprocessing\", \"retriever_agent\")\n",
        "workflow.add_edge(\"retriever_agent\", END)\n",
        "\n",
        "# Compiling\n",
        "app = workflow.compile()"
      ],
      "metadata": {
        "id": "BJivdJSqBPkt"
      },
      "execution_count": 108,
      "outputs": []
    },
    {
      "cell_type": "code",
      "source": [
        "for test_row in df_one.itertuples():\n",
        "  app.invoke(RequestDto(title=test_row.title, url=test_row.url, content=test_row.content))"
      ],
      "metadata": {
        "id": "vHtSSuQkl2ga"
      },
      "execution_count": null,
      "outputs": []
    },
    {
      "cell_type": "code",
      "source": [
        "# Visualize your graph\n",
        "from IPython.display import Image, display\n",
        "png = app.get_graph().draw_mermaid_png()\n",
        "\n",
        "display(Image(png))"
      ],
      "metadata": {
        "colab": {
          "base_uri": "https://localhost:8080/",
          "height": 449
        },
        "id": "n6-ptbpyJ3fu",
        "outputId": "365a6181-edd2-4093-b63a-a3b48d97f308"
      },
      "execution_count": 104,
      "outputs": [
        {
          "output_type": "display_data",
          "data": {
            "image/png": "[encoded data removed]",
            "text/plain": [
              "<IPython.core.display.Image object>"
            ]
          },
          "metadata": {}
        }
      ]
    }
  ]
}