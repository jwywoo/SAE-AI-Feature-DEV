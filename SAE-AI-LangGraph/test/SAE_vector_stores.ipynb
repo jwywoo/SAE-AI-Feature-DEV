{
  "nbformat": 4,
  "nbformat_minor": 0,
  "metadata": {
    "colab": {
      "provenance": []
    },
    "kernelspec": {
      "name": "python3",
      "display_name": "Python 3"
    },
    "language_info": {
      "name": "python"
    }
  },
  "cells": [
    {
      "cell_type": "markdown",
      "source": [
        "# Colab Imports"
      ],
      "metadata": {
        "id": "YtVhicL1v7Pv"
      }
    },
    {
      "cell_type": "code",
      "execution_count": null,
      "metadata": {
        "colab": {
          "base_uri": "https://localhost:8080/"
        },
        "id": "-47R_NtxvsP4",
        "outputId": "312b0b0a-8b01-437d-e5a9-61d6a2f5d6de"
      },
      "outputs": [
        {
          "output_type": "stream",
          "name": "stdout",
          "text": [
            "Drive already mounted at /content/drive; to attempt to forcibly remount, call drive.mount(\"/content/drive\", force_remount=True).\n"
          ]
        }
      ],
      "source": [
        "from google.colab import drive\n",
        "from google.colab import userdata\n",
        "drive.mount('/content/drive')"
      ]
    },
    {
      "cell_type": "markdown",
      "source": [
        "# Installation"
      ],
      "metadata": {
        "id": "G1RjnwfawFp2"
      }
    },
    {
      "cell_type": "code",
      "source": [
        "!pip -q install langgraph langchain_openai langchain_community tiktoken konlpy"
      ],
      "metadata": {
        "id": "yqa_3dnkwhF_"
      },
      "execution_count": null,
      "outputs": []
    },
    {
      "cell_type": "markdown",
      "source": [
        "# Settings & Loadings"
      ],
      "metadata": {
        "id": "pFD3cE5ewHRS"
      }
    },
    {
      "cell_type": "code",
      "source": [
        "import os\n",
        "import json\n",
        "import pandas as pd\n",
        "\n",
        "os.environ['OPENAI_API_KEY'] = userdata.get('OPENAI_API_KEY')\n",
        "\n",
        "PROFECT_DIR = os.path.join(\"/content/drive/MyDrive\", \"Profect SAE\")\n",
        "\n",
        "KRX_KOSPI = os.path.join(PROFECT_DIR, \"KRX_KOSPI\")\n",
        "stock_embedding = os.path.join(PROFECT_DIR, \"stocks_embedding\")"
      ],
      "metadata": {
        "id": "mpqOfVczwgq0"
      },
      "execution_count": null,
      "outputs": []
    },
    {
      "cell_type": "markdown",
      "source": [
        "# KOSPI"
      ],
      "metadata": {
        "id": "RsNBkVTunQtU"
      }
    },
    {
      "cell_type": "code",
      "source": [
        "## Kospi\n",
        "krx_kospi = os.path.join(KRX_KOSPI, \"encoded_company_no_bom.csv\")\n",
        "krx_kospi_categories = os.path.join(KRX_KOSPI, \"companies_categories.csv\")\n",
        "kospi_abstract = os.path.join(stock_embedding, \"kospi_900.csv\")\n",
        "\n",
        "krx_kospi_df = pd.read_csv(krx_kospi, encoding='utf-8-sig')\n",
        "krx_kospi_categories_df = pd.read_csv(krx_kospi_categories, encoding='euc-kr')\n",
        "kospi_abstract_df = pd.read_csv(kospi_abstract, encoding='utf-8-sig')"
      ],
      "metadata": {
        "id": "qVfty6UynHVm"
      },
      "execution_count": null,
      "outputs": []
    },
    {
      "cell_type": "code",
      "source": [
        "kospi_abstract_df = kospi_abstract_df[kospi_abstract_df['company_abstract'] != 'Not Available']\n",
        "krx_kospi_categories_df = krx_kospi_categories_df[krx_kospi_categories_df['종목코드'].isin(kospi_abstract_df['ticker_code'])]\n",
        "krx_kospi_df = krx_kospi_df[krx_kospi_df['ISU_SRT_CD'].isin(kospi_abstract_df['ticker_code'])]\n",
        "\n",
        "krx_kospi_categories_df = krx_kospi_categories_df.copy()\n",
        "krx_kospi_categories_df.rename(columns={'종목코드': 'ticker_code'}, inplace=True)\n",
        "krx_kospi_df = krx_kospi_df.copy()\n",
        "krx_kospi_df.rename(columns={'ISU_SRT_CD': 'ticker_code'}, inplace=True)\n",
        "\n",
        "combined_df = krx_kospi_df.merge(krx_kospi_categories_df, on='ticker_code', how='inner').merge(kospi_abstract_df, on='ticker_code', how='inner')"
      ],
      "metadata": {
        "colab": {
          "base_uri": "https://localhost:8080/"
        },
        "id": "AI787dZ8ARvz",
        "outputId": "e3f1269f-641c-412c-b04c-2c13b1d6369b"
      },
      "execution_count": null,
      "outputs": [
        {
          "output_type": "stream",
          "name": "stdout",
          "text": [
            "(819, 12)\n",
            "(819, 8)\n",
            "(819, 4)\n",
            "(819, 22)\n"
          ]
        }
      ]
    },
    {
      "cell_type": "code",
      "source": [
        "combined_df_one = combined_df.loc[:, ['ISU_CD', 'ticker_code', 'ISU_NM', 'ISU_ABBRV', 'ISU_ENG_NM', 'MKT_TP_NM', '업종명', 'ur', 'company_abstract']].copy()\n",
        "print(combined_df_one.columns)\n",
        "combined_df_one.rename(columns={'ISU_CD': 'ticker_code_full'}, inplace=True)\n",
        "combined_df_one.rename(columns={'ISU_NM': 'full_name'}, inplace=True)\n",
        "combined_df_one.rename(columns={'ISU_ABBRV': 'korean_name'}, inplace=True)\n",
        "combined_df_one.rename(columns={'ISU_ENG_NM': 'english_name'}, inplace=True)\n",
        "combined_df_one.rename(columns={'MKT_TP_NM': 'market'}, inplace=True)\n",
        "combined_df_one.rename(columns={'업종명': 'industry'}, inplace=True)\n",
        "combined_df_one.rename(columns={'ur': 'url'}, inplace=True)\n",
        "combined_df_one['country'] = \"KOR\"\n",
        "print(combined_df_one.columns)\n",
        "print(combined_df_one.shape)\n",
        "\n",
        "combined_df_one.to_csv(os.path.join(stock_embedding, \"before_embedding/kospi_900_info_v1.csv\"), index=False)"
      ],
      "metadata": {
        "colab": {
          "base_uri": "https://localhost:8080/"
        },
        "id": "5AFsMy6VHGOw",
        "outputId": "10850c9e-7208-4381-a2be-c13f67d2e305"
      },
      "execution_count": null,
      "outputs": [
        {
          "output_type": "stream",
          "name": "stdout",
          "text": [
            "Index(['ISU_CD', 'ticker_code', 'ISU_NM', 'ISU_ABBRV', 'ISU_ENG_NM',\n",
            "       'MKT_TP_NM', '업종명', 'ur', 'company_abstract'],\n",
            "      dtype='object')\n",
            "Index(['ticker_code_full', 'ticker_code', 'full_name', 'korean_name',\n",
            "       'english_name', 'market', 'industry', 'url', 'company_abstract',\n",
            "       'country'],\n",
            "      dtype='object')\n",
            "(819, 10)\n"
          ]
        }
      ]
    },
    {
      "cell_type": "markdown",
      "source": [
        "# Nasdaq"
      ],
      "metadata": {
        "id": "d6pdTBokmUf-"
      }
    },
    {
      "cell_type": "code",
      "source": [
        "## Nasdaq\n",
        "nasdaq_abstract = os.path.join(stock_embedding, \"nasdaq_1000.csv\")\n",
        "nasdaq_abstract_df = pd.read_csv(nasdaq_abstract, encoding='utf-8-sig')\n",
        "\n",
        "nasdaq_abstract_df = nasdaq_abstract_df[nasdaq_abstract_df['company_abstract'] != 'Not Available']\n",
        "\n",
        "# drop\n",
        "nasdaq_abstract_df = nasdaq_abstract_df.drop(columns=['Unnamed: 0', 'url_abs'])\n",
        "\n",
        "# columns\n",
        "nasdaq_abstract_df['market'] = \"NASDAQ\"\n",
        "nasdaq_abstract_df['ticker_code_full'] = \"Nasdaq_\"+nasdaq_abstract_df['ticker_code']\n",
        "nasdaq_abstract_df['country'] = \"USA\"\n",
        "\n",
        "# rename\n",
        "nasdaq_abstract_df.rename(columns={'naver_stock_ticker': 'full_name'}, inplace=True)\n",
        "nasdaq_abstract_df.rename(columns={'url_total': 'url'}, inplace=True)\n",
        "\n",
        "# checking\n",
        "nasdaq_abstract_df_columns = set(nasdaq_abstract_df.columns)\n",
        "combined_df_one_columns = set(combined_df_one.columns)\n",
        "\n",
        "common = combined_df_one_columns.intersection(nasdaq_abstract_df_columns)\n",
        "nasdaq_abstract_df.to_csv(os.path.join(stock_embedding, \"before_embedding/nasdaq_1000_info_v1.csv\"), index=False)"
      ],
      "metadata": {
        "colab": {
          "base_uri": "https://localhost:8080/"
        },
        "id": "LhNnJxUvmFXf",
        "outputId": "30e3bc16-3ef1-4949-9962-ead9b04cf34c"
      },
      "execution_count": null,
      "outputs": [
        {
          "output_type": "stream",
          "name": "stdout",
          "text": [
            "(1000, 9)\n",
            "Index(['Unnamed: 0', 'ticker_code', 'naver_stock_ticker', 'url_abs',\n",
            "       'url_total', 'company_abstract', 'korean_name', 'english_name',\n",
            "       'industry'],\n",
            "      dtype='object')\n",
            "Index(['ticker_code_full', 'ticker_code', 'full_name', 'korean_name',\n",
            "       'english_name', 'market', 'industry', 'url', 'company_abstract',\n",
            "       'country'],\n",
            "      dtype='object')\n",
            "Index(['ticker_code', 'full_name', 'url', 'company_abstract', 'korean_name',\n",
            "       'english_name', 'industry', 'market', 'ticker_code_full', 'country'],\n",
            "      dtype='object')\n",
            "(819, 10)\n",
            "(997, 10)\n",
            "10 {'company_abstract', 'ticker_code', 'market', 'full_name', 'korean_name', 'english_name', 'ticker_code_full', 'country', 'industry', 'url'}\n",
            "set()\n"
          ]
        }
      ]
    },
    {
      "cell_type": "markdown",
      "source": [
        "# Industry: unique"
      ],
      "metadata": {
        "id": "cmtZIFB8LJva"
      }
    },
    {
      "cell_type": "code",
      "source": [
        "nasdaq_abstract_df = pd.read_csv(os.path.join(stock_embedding, \"before_embedding/nasdaq_1000_info_v1.csv\"), encoding='utf-8-sig')\n",
        "kospi_abstract_df = pd.read_csv(os.path.join(stock_embedding, \"before_embedding/kospi_900_info_v1.csv\"), encoding='utf-8-sig')\n",
        "\n",
        "print(nasdaq_abstract_df.shape)\n",
        "print(kospi_abstract_df.shape)\n",
        "\n",
        "kospi_industry = kospi_abstract_df['industry'].unique()\n",
        "nasdaq_industry = nasdaq_abstract_df['industry'].unique()"
      ],
      "metadata": {
        "colab": {
          "base_uri": "https://localhost:8080/"
        },
        "id": "MdF0cBr77ZC3",
        "outputId": "91621f95-b2d5-41d8-cf51-00da028f4887"
      },
      "execution_count": null,
      "outputs": [
        {
          "output_type": "stream",
          "name": "stdout",
          "text": [
            "(997, 10)\n",
            "(819, 10)\n"
          ]
        }
      ]
    },
    {
      "cell_type": "code",
      "source": [
        "def map_industry_to_category(industry):\n",
        "    # Convert to string and strip whitespace\n",
        "    industry = str(industry).strip()\n",
        "\n",
        "    # Financial Services (금융 서비스)\n",
        "    if any(kw in industry for kw in ['금융', '은행', '증권', '보험', '핀테크', '투자', '중개', '대출', 'REITs']):\n",
        "        return '금융 서비스'\n",
        "\n",
        "    # Technology (기술)\n",
        "    elif any(kw in industry for kw in ['소프트웨어', '반도체', 'IT', '하드웨어', '블록체인', '암호화폐', '네트워킹']):\n",
        "        return '기술'\n",
        "\n",
        "    # Healthcare (헬스케어)\n",
        "    elif any(kw in industry for kw in ['제약', '의료', '생명 공학', '정밀기기', '헬스케어']):\n",
        "        return '헬스케어'\n",
        "\n",
        "    # Consumer Goods (소비재)\n",
        "    elif any(kw in industry for kw in ['음식료', '담배', '의류', '음료', '가정용', '소비재', '장난감', '제화']):\n",
        "        return '소비재'\n",
        "\n",
        "    # Retail & Distribution (유통 및 소매)\n",
        "    elif any(kw in industry for kw in ['유통', '소매', '백화점', '할인점', '온라인', '식품 소매']):\n",
        "        return '유통 및 소매'\n",
        "\n",
        "    # Manufacturing (제조업)\n",
        "    elif any(kw in industry for kw in ['전기', '전자', '화학', '금속', '기계', '장비', '비금속', '종이', '목재', '항공우주']):\n",
        "        return '제조업'\n",
        "\n",
        "    # Transportation (운송)\n",
        "    elif any(kw in industry for kw in ['운송', '창고', '물류', '항공사', '자동차', '트럭', '부품']):\n",
        "        return '운송'\n",
        "\n",
        "    # Utilities (유틸리티)\n",
        "    elif any(kw in industry for kw in ['전기', '가스', '유틸리티', '재생 가능', '수자원']):\n",
        "        return '유틸리티'\n",
        "\n",
        "    # Real Estate (부동산)\n",
        "    elif '부동산' in industry:\n",
        "        return '부동산'\n",
        "\n",
        "    # Entertainment & Leisure (엔터테인먼트 및 레저)\n",
        "    elif any(kw in industry for kw in ['오락', '문화', '레스토랑', '호텔', '카지노', '방송', '엔터테인먼트']):\n",
        "        return '엔터테인먼트 및 레저'\n",
        "\n",
        "    # Construction & Materials (건설 및 자재)\n",
        "    elif any(kw in industry for kw in ['건설', '엔지니어링', '자재', '주택']):\n",
        "        return '건설 및 자재'\n",
        "\n",
        "    # Telecommunications (통신)\n",
        "    elif '통신' in industry:\n",
        "        return '통신'\n",
        "\n",
        "    # Energy (에너지)\n",
        "    elif any(kw in industry for kw in ['오일', '가스', '석탄', '에너지']):\n",
        "        return '에너지'\n",
        "\n",
        "    # Agriculture & Natural Resources (농업 및 천연자원)\n",
        "    elif any(kw in industry for kw in ['농업', '임업', '어업', '금', '채굴']):\n",
        "        return '농업 및 천연자원'\n",
        "\n",
        "    # Other Services (기타 서비스)\n",
        "    else:\n",
        "        return '기타 서비스'"
      ],
      "metadata": {
        "id": "aHg0jwuxL_5d"
      },
      "execution_count": null,
      "outputs": []
    },
    {
      "cell_type": "code",
      "source": [
        "# Apply the mapping\n",
        "kospi_abstract_df['industry_standardized'] = kospi_abstract_df['industry'].apply(map_industry_to_category)\n",
        "nasdaq_abstract_df['industry_standardized'] = nasdaq_abstract_df['industry'].apply(map_industry_to_category)"
      ],
      "metadata": {
        "id": "y5eDJHGNOzT8"
      },
      "execution_count": null,
      "outputs": []
    },
    {
      "cell_type": "code",
      "source": [
        "print(kospi_abstract_df.shape)\n",
        "print(nasdaq_abstract_df.shape)\n",
        "\n",
        "kospi_abstract_df.to_csv(os.path.join(stock_embedding, \"before_embedding/kospi_900_info_v2.csv\"), index=False)\n",
        "nasdaq_abstract_df.to_csv(os.path.join(stock_embedding, \"before_embedding/nasdaq_1000_info_v2.csv\"), index=False)"
      ],
      "metadata": {
        "colab": {
          "base_uri": "https://localhost:8080/"
        },
        "id": "IhbJFRp5O9Nz",
        "outputId": "3bf45e36-d9a4-40ba-ee05-ff8ed36b2ee5"
      },
      "execution_count": null,
      "outputs": [
        {
          "output_type": "stream",
          "name": "stdout",
          "text": [
            "(819, 11)\n",
            "(997, 11)\n"
          ]
        }
      ]
    },
    {
      "cell_type": "markdown",
      "source": [
        "# Vector Stores"
      ],
      "metadata": {
        "id": "o3MmqtQnI1vm"
      }
    },
    {
      "cell_type": "markdown",
      "source": [
        "## Data"
      ],
      "metadata": {
        "id": "-JqGgcaLJ7My"
      }
    },
    {
      "cell_type": "code",
      "source": [
        "import pandas as pd\n",
        "\n",
        "kospi_900_info = os.path.join(stock_embedding, \"before_embedding/kospi_900_info_v2.csv\")\n",
        "nasdaq_1000_info = os.path.join(stock_embedding, \"before_embedding/nasdaq_1000_info_v2.csv\")\n",
        "\n",
        "kospi_900_info_df = pd.read_csv(kospi_900_info, encoding='utf-8-sig')\n",
        "nasdaq_1000_info_df = pd.read_csv(nasdaq_1000_info, encoding='utf-8-sig')\n",
        "\n",
        "print(kospi_900_info_df.shape)\n",
        "print(nasdaq_1000_info_df.shape)"
      ],
      "metadata": {
        "colab": {
          "base_uri": "https://localhost:8080/"
        },
        "id": "loGTVwHII04A",
        "outputId": "36ed2b43-dd90-4e4e-8936-c30697e06be5"
      },
      "execution_count": null,
      "outputs": [
        {
          "output_type": "stream",
          "name": "stdout",
          "text": [
            "(819, 11)\n",
            "(997, 11)\n"
          ]
        }
      ]
    },
    {
      "cell_type": "markdown",
      "source": [
        "## Secret Key"
      ],
      "metadata": {
        "id": "R8Lgkwy7J-P1"
      }
    },
    {
      "cell_type": "code",
      "source": [
        "os.environ['OPENAI_API_KEY'] = userdata.get('OPENAI_API_KEY')"
      ],
      "metadata": {
        "id": "euumSC3eJMcj"
      },
      "execution_count": null,
      "outputs": []
    },
    {
      "cell_type": "markdown",
      "source": [
        "## Vector Init"
      ],
      "metadata": {
        "id": "c9vo7vTvKDTR"
      }
    },
    {
      "cell_type": "markdown",
      "source": [
        "### Installation"
      ],
      "metadata": {
        "id": "Jl-VHBgmMqcx"
      }
    },
    {
      "cell_type": "code",
      "source": [
        "!pip install -qU langchain-pinecone pinecone-notebooks"
      ],
      "metadata": {
        "id": "T4WlCzfJKLEG"
      },
      "execution_count": null,
      "outputs": []
    },
    {
      "cell_type": "markdown",
      "source": [
        "### Index and Embedding Models"
      ],
      "metadata": {
        "id": "2et8GhFEMv6B"
      }
    },
    {
      "cell_type": "code",
      "source": [
        "import time\n",
        "\n",
        "from pinecone import Pinecone, ServerlessSpec\n",
        "from langchain_openai import OpenAIEmbeddings\n",
        "from langchain_pinecone import PineconeVectorStore\n",
        "\n",
        "pc = Pinecone(api_key=userdata.get('PINECONE-API-KEY'))\n",
        "\n",
        "index_name = \"sae-vectors\"\n",
        "\n",
        "existing_indexes = [index_info[\"name\"] for index_info in pc.list_indexes()]\n",
        "\n",
        "if index_name not in existing_indexes:\n",
        "    pc.create_index(\n",
        "        name=index_name,\n",
        "        dimension=3072,\n",
        "        metric=\"cosine\",\n",
        "        spec=ServerlessSpec(cloud=\"aws\", region=\"us-east-1\"),\n",
        "    )\n",
        "    while not pc.describe_index(index_name).status[\"ready\"]:\n",
        "        time.sleep(1)\n",
        "\n",
        "index = pc.Index(index_name)\n",
        "embeddings = OpenAIEmbeddings(model=\"text-embedding-3-large\")\n",
        "vector_store = PineconeVectorStore(index=index, embedding=embeddings)"
      ],
      "metadata": {
        "colab": {
          "base_uri": "https://localhost:8080/"
        },
        "id": "6GAopoj8KVFE",
        "outputId": "338b23dc-62f1-431e-950a-30d78bfaff59"
      },
      "execution_count": null,
      "outputs": [
        {
          "output_type": "stream",
          "name": "stderr",
          "text": [
            "WARNING:urllib3.connectionpool:Retrying (Retry(total=2, connect=None, read=None, redirect=None, status=None)) after connection broken by 'RemoteDisconnected('Remote end closed connection without response')': /indexes/sae-vectors\n"
          ]
        }
      ]
    },
    {
      "cell_type": "markdown",
      "source": [
        "### Add Items"
      ],
      "metadata": {
        "id": "LS4EuZjfNJmM"
      }
    },
    {
      "cell_type": "code",
      "source": [
        "from langchain_core.documents import Document\n",
        "\n",
        "def document_generator(row):\n",
        "  text = f\"{row.english_name} {row.korean_name} {row.company_abstract} {row.industry}\"\n",
        "  text = text.lower().strip()\n",
        "  return Document(\n",
        "      page_content=text,\n",
        "      metadata={\n",
        "          'ticker_code_full': row.ticker_code_full,\n",
        "          'ticker_code': row.ticker_code,\n",
        "          'full_name': row.full_name,\n",
        "          'korean_name': row.korean_name,\n",
        "          'english_name': row.english_name,\n",
        "          'market': row.market,\n",
        "          'industry': row.industry,\n",
        "          'url': row.url,\n",
        "          'country': row.country,\n",
        "          'industry_standardized': row.industry_standardized\n",
        "      },\n",
        "  )"
      ],
      "metadata": {
        "id": "fDOHNGtsSehK"
      },
      "execution_count": null,
      "outputs": []
    },
    {
      "cell_type": "code",
      "source": [
        "print(kospi_900_info_df.shape)\n",
        "print(nasdaq_1000_info_df.shape)\n",
        "kospi_900_info_df = kospi_900_info_df.dropna()\n",
        "nasdaq_1000_info_df = nasdaq_1000_info_df.dropna()\n",
        "print(kospi_900_info_df.shape)\n",
        "print(nasdaq_1000_info_df.shape)\n",
        "kospi_900_docs = kospi_900_info_df.apply(document_generator, axis=1)\n",
        "nasdaq_1000_docs = nasdaq_1000_info_df.apply(document_generator, axis=1)"
      ],
      "metadata": {
        "colab": {
          "base_uri": "https://localhost:8080/"
        },
        "id": "EpLUVVBBz9oq",
        "outputId": "cca7a6fb-e9db-4c58-b1d8-b62b803f9368"
      },
      "execution_count": null,
      "outputs": [
        {
          "output_type": "stream",
          "name": "stdout",
          "text": [
            "(819, 11)\n",
            "(997, 11)\n",
            "(819, 11)\n",
            "(995, 11)\n"
          ]
        }
      ]
    },
    {
      "cell_type": "code",
      "source": [
        "import tiktoken\n",
        "encoding = tiktoken.get_encoding(\"cl100k_base\")\n",
        "count = 0\n",
        "print(\"KOSPI 900\")\n",
        "for doc in kospi_900_docs:\n",
        "  count+= len(encoding.encode(doc.page_content))\n",
        "print(\"Total Token\", count)\n",
        "print(\"Avg Token: \", count/len(kospi_900_docs))"
      ],
      "metadata": {
        "id": "Y7OXwNFixpmY"
      },
      "execution_count": null,
      "outputs": []
    },
    {
      "cell_type": "code",
      "source": [
        "from uuid import uuid4\n",
        "\n",
        "# kospi 900\n",
        "uuids = [str(uuid4()) for _ in range(len(kospi_900_docs))]\n",
        "vector_store.add_documents(documents=kospi_900_docs, ids=uuids, namespace=\"kospi-900\")"
      ],
      "metadata": {
        "id": "iu1RJI3aKkl3"
      },
      "execution_count": null,
      "outputs": []
    },
    {
      "cell_type": "code",
      "source": [
        "from uuid import uuid4\n",
        "\n",
        "# nasdaq 1000\n",
        "uuids = [str(uuid4()) for _ in range(len(nasdaq_1000_docs))]\n",
        "vector_store.add_documents(documents=nasdaq_1000_docs, ids=uuids, namespace=\"nasdaq-1000\")"
      ],
      "metadata": {
        "id": "sHredxAq2LMO"
      },
      "execution_count": null,
      "outputs": []
    }
  ]
}