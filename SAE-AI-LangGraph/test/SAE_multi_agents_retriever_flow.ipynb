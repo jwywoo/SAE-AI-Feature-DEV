{
  "nbformat": 4,
  "nbformat_minor": 0,
  "metadata": {
    "colab": {
      "provenance": [],
      "collapsed_sections": [
        "YtVhicL1v7Pv",
        "G1RjnwfawFp2",
        "pFD3cE5ewHRS",
        "AvkhJ-0CGAiJ",
        "BGVyo4YAwi6O"
      ]
    },
    "kernelspec": {
      "name": "python3",
      "display_name": "Python 3"
    },
    "language_info": {
      "name": "python"
    }
  },
  "cells": [
    {
      "cell_type": "markdown",
      "source": [
        "# Colab Imports"
      ],
      "metadata": {
        "id": "YtVhicL1v7Pv"
      }
    },
    {
      "cell_type": "code",
      "execution_count": null,
      "metadata": {
        "colab": {
          "base_uri": "https://localhost:8080/"
        },
        "id": "-47R_NtxvsP4",
        "outputId": "880fe34b-9546-45b8-c5a0-1063dc852d59"
      },
      "outputs": [
        {
          "output_type": "stream",
          "name": "stdout",
          "text": [
            "Drive already mounted at /content/drive; to attempt to forcibly remount, call drive.mount(\"/content/drive\", force_remount=True).\n"
          ]
        }
      ],
      "source": [
        "from google.colab import drive\n",
        "from google.colab import userdata\n",
        "drive.mount('/content/drive')"
      ]
    },
    {
      "cell_type": "markdown",
      "source": [
        "# Installation"
      ],
      "metadata": {
        "id": "G1RjnwfawFp2"
      }
    },
    {
      "cell_type": "code",
      "source": [
        "!pip -q install langgraph langchain_openai langchain_community tiktoken konlpy langchain-pinecone pinecone-notebooks"
      ],
      "metadata": {
        "id": "yqa_3dnkwhF_"
      },
      "execution_count": null,
      "outputs": []
    },
    {
      "cell_type": "markdown",
      "source": [
        "# Settings & Loadings"
      ],
      "metadata": {
        "id": "pFD3cE5ewHRS"
      }
    },
    {
      "cell_type": "code",
      "source": [
        "import os\n",
        "import json\n",
        "import pandas as pd\n",
        "\n",
        "os.environ['OPENAI_API_KEY'] = userdata.get('OPENAI_API_KEY')\n",
        "\n",
        "PROFECT_DIR = os.path.join(\"/content/drive/MyDrive\", \"Profect SAE\")\n",
        "CSVs = os.path.join(PROFECT_DIR, \"test_data/CSVs\")\n",
        "\n",
        "df_one = pd.read_csv(os.path.join(CSVs, \"test_preprocessed_data.csv\"))"
      ],
      "metadata": {
        "id": "mpqOfVczwgq0"
      },
      "execution_count": null,
      "outputs": []
    },
    {
      "cell_type": "markdown",
      "source": [
        "# Models, Schema & State\n",
        "- `gpt-4o-mini`\n",
        "- `text-embedding-3-large`"
      ],
      "metadata": {
        "id": "8JWhGHpTwKbA"
      }
    },
    {
      "cell_type": "code",
      "source": [
        "from langchain_openai import ChatOpenAI\n",
        "from langchain_openai import OpenAIEmbeddings\n",
        "\n",
        "llm = ChatOpenAI(model_name=\"gpt-4o-mini\", temperature=0)\n",
        "embeddings = OpenAIEmbeddings(model=\"text-embedding-3-large\")"
      ],
      "metadata": {
        "id": "8X7BWTp2wgbG"
      },
      "execution_count": null,
      "outputs": []
    },
    {
      "cell_type": "code",
      "source": [
        "from pydantic import BaseModel\n",
        "from typing import Annotated, List\n",
        "\n",
        "class RequestDto(BaseModel):\n",
        "  title: str\n",
        "  url: str\n",
        "  content: str\n",
        "\n",
        "class EmbeddedRequest(BaseModel):\n",
        "  query: str\n",
        "\n",
        "class ResponseDto(BaseModel):\n",
        "  korean_name: str\n",
        "  english_name: str\n",
        "  ticker_code: str\n",
        "\n",
        "class FlowState(BaseModel):\n",
        "  request_dto: RequestDto\n",
        "  response_dto: List[ResponseDto]"
      ],
      "metadata": {
        "id": "4aKgzNi6U3A5"
      },
      "execution_count": null,
      "outputs": []
    },
    {
      "cell_type": "markdown",
      "source": [
        "# Agents, Nodes & Tools"
      ],
      "metadata": {
        "id": "T8jBf21-wMX3"
      }
    },
    {
      "cell_type": "markdown",
      "source": [
        "## Agents"
      ],
      "metadata": {
        "id": "5tZ6y21Oxq8o"
      }
    },
    {
      "cell_type": "code",
      "source": [
        "def embedding_agent(state= FlowState) -> FlowState:\n",
        "  # query = state.request_dto.title + \" \" + state.request_dto.content\n",
        "  # state.embedded_request_kor.query = query\n",
        "  # state.embedded_request_foreign.query = query\n",
        "  return state"
      ],
      "metadata": {
        "id": "dQUDYOTgcNz0"
      },
      "execution_count": null,
      "outputs": []
    },
    {
      "cell_type": "code",
      "source": [
        "from langchain_pinecone import PineconeVectorStore\n",
        "from pinecone import Pinecone\n",
        "from pydantic import BaseModel\n",
        "from typing import List\n",
        "from langchain_openai import OpenAIEmbeddings\n",
        "\n",
        "pc = Pinecone(api_key=userdata.get('PINECONE-API-KEY'))\n",
        "\n",
        "def retrieved_vector_parser(given_vectors):\n",
        "    return [\n",
        "        ResponseDto(\n",
        "            korean_name=vector.metadata.get(\"korean_name\", \"N/A\"),\n",
        "            english_name=vector.metadata.get(\"english_name\", \"N/A\"),\n",
        "            ticker_code=vector.metadata.get(\"ticker_code\", \"N/A\")\n",
        "        )\n",
        "        for vector in given_vectors\n",
        "    ]\n",
        "\n",
        "def retriever_agent(state: FlowState):\n",
        "  text = f\"{state.request_dto.title}  {state.request_dto.content}\"\n",
        "  print(text)\n",
        "  # Vector Store init\n",
        "  embeddings = OpenAIEmbeddings(model=\"text-embedding-3-large\")\n",
        "  kor_retriever = retriever_init(\"sae-embedded-stocks-kor\", embeddings, \"kospi-900\")\n",
        "  foriegn_retriever = retriever_init(\"sae-embedded-stocks-foriegn\", embeddings, \"nasdaq-1000\")\n",
        "\n",
        "  # Invoke\n",
        "  kor_result = retrieved_vector_parser(kor_retriever.invoke(text))\n",
        "  foriegn_result = retrieved_vector_parser(foriegn_retriever.invoke(text))\n",
        "  state.response_dto.extend(kor_result)\n",
        "  state.response_dto.extend(foriegn_result)\n",
        "  return state\n",
        "\n",
        "def retriever_init(index_name: str, embeddings, namespace):\n",
        "  index = pc.Index(index_name)\n",
        "  vector_store = PineconeVectorStore(index=index, embedding=embeddings)\n",
        "  return vector_store.as_retriever(\n",
        "    search_type=\"similarity_score_threshold\",\n",
        "    search_kwargs={\"k\": 2, \"score_threshold\": 0.5,\"namespace\": namespace},)\n"
      ],
      "metadata": {
        "id": "-Okzpy0KXevj"
      },
      "execution_count": null,
      "outputs": []
    },
    {
      "cell_type": "code",
      "source": [
        "def kor_retriever_agent(state: FlowState) -> FlowState:\n",
        "  embeddings = OpenAIEmbeddings(model=\"text-embedding-3-large\")\n",
        "  retriever = retriever_init(\"sae-embedded-stocks-kor\", embeddings)\n",
        "  state.response_dto.results.append(\"kor_retriever_agent result added\")\n",
        "  return state\n",
        "\n",
        "def foriegn_retriever_agent(state: FlowState) -> FlowState:\n",
        "  embeddings = OpenAIEmbeddings(model=\"text-embedding-3-large\")\n",
        "  retriever = retriever_init(\"sae-embedded-stocks-foriegn\", embeddings)\n",
        "  state.response_dto.results.append(\"foriegn_retriever_agent result added\")\n",
        "  return state"
      ],
      "metadata": {
        "id": "FP_1T58R68RG"
      },
      "execution_count": null,
      "outputs": []
    },
    {
      "cell_type": "markdown",
      "source": [
        "## Tools"
      ],
      "metadata": {
        "id": "AvkhJ-0CGAiJ"
      }
    },
    {
      "cell_type": "code",
      "source": [],
      "metadata": {
        "id": "AdReA3HucMuj"
      },
      "execution_count": null,
      "outputs": []
    },
    {
      "cell_type": "markdown",
      "source": [
        "## Nodes"
      ],
      "metadata": {
        "id": "EbjL-P4nxt25"
      }
    },
    {
      "cell_type": "code",
      "source": [
        "def response_parser(state= FlowState) -> FlowState:\n",
        "  # print(state.response_dto.results)\n",
        "  return state"
      ],
      "metadata": {
        "id": "NLLK9X58lATI"
      },
      "execution_count": null,
      "outputs": []
    },
    {
      "cell_type": "markdown",
      "source": [
        "# Flow"
      ],
      "metadata": {
        "id": "acCSDgjBwem2"
      }
    },
    {
      "cell_type": "code",
      "source": [
        "from langgraph.graph import StateGraph, START, END\n",
        "\n",
        "graph_blueprint = StateGraph(state_schema=FlowState)\n",
        "\n",
        "# Nodes\n",
        "graph_blueprint.add_node(\"embedding_agent\", embedding_agent)\n",
        "graph_blueprint.add_node(\"retriever_agent\", retriever_agent)\n",
        "# graph_blueprint.add_node(\"kor_retriever_agent\", kor_retriever_agent)\n",
        "# graph_blueprint.add_node(\"foriegn_retriever_agent\", foriegn_retriever_agent)\n",
        "graph_blueprint.add_node(\"response_parser\", response_parser)\n",
        "\n",
        "# Start\n",
        "graph_blueprint.add_edge(START, \"embedding_agent\")\n",
        "\n",
        "# Body\n",
        "# graph_blueprint.add_edge(\"embedding_agent\", \"kor_retriever_agent\")\n",
        "# graph_blueprint.add_edge(\"embedding_agent\", \"foriegn_retriever_agent\")\n",
        "# graph_blueprint.add_edge(\"kor_retriever_agent\", \"response_parser\")\n",
        "# graph_blueprint.add_edge(\"foriegn_retriever_agent\", \"response_parser\")\n",
        "\n",
        "graph_blueprint.add_edge(\"embedding_agent\", \"retriever_agent\")\n",
        "graph_blueprint.add_edge(\"retriever_agent\", \"response_parser\")\n",
        "\n",
        "# End\n",
        "graph_blueprint.add_edge(\"response_parser\", END)\n",
        "\n",
        "retrieving_flow = graph_blueprint.compile()"
      ],
      "metadata": {
        "id": "qHRQsGM2cHgL"
      },
      "execution_count": null,
      "outputs": []
    },
    {
      "cell_type": "markdown",
      "source": [
        "# Visualization"
      ],
      "metadata": {
        "id": "BGVyo4YAwi6O"
      }
    },
    {
      "cell_type": "code",
      "source": [
        "# Visualize your graph\n",
        "from IPython.display import Image, display\n",
        "png = retrieving_flow.get_graph().draw_mermaid_png()\n",
        "display(Image(png))"
      ],
      "metadata": {
        "id": "aw-yhmFMwlUq",
        "colab": {
          "base_uri": "https://localhost:8080/",
          "height": 449
        },
        "outputId": "a445f51b-b917-4590-e2e1-98e190250306",
        "collapsed": true
      },
      "execution_count": null,
      "outputs": [
        {
          "output_type": "display_data",
          "data": {
            "image/png": "[encoded data removed]",
            "text/plain": [
              "<IPython.core.display.Image object>"
            ]
          },
          "metadata": {}
        }
      ]
    },
    {
      "cell_type": "markdown",
      "source": [
        "# Test"
      ],
      "metadata": {
        "id": "67DoUIGb3iLS"
      }
    },
    {
      "cell_type": "code",
      "source": [
        "index = 0\n",
        "for row in df_one.itertuples(index=False):\n",
        "    request_dto = RequestDto(title=row.title, url=row.url, content=row.content)\n",
        "    response_dto = []\n",
        "    flow_state = FlowState(\n",
        "        request_dto=request_dto,\n",
        "        response_dto=response_dto\n",
        "        )\n",
        "\n",
        "    result_state = retrieving_flow.invoke(flow_state)\n",
        "    break\n",
        "    if index == 10:\n",
        "        break\n",
        "    index += 1\n"
      ],
      "metadata": {
        "colab": {
          "base_uri": "https://localhost:8080/",
          "height": 216
        },
        "id": "Z1V_WzzzvjKB",
        "outputId": "372985f5-af13-4077-d44b-359bea42bee2",
        "collapsed": true
      },
      "execution_count": null,
      "outputs": [
        {
          "output_type": "error",
          "ename": "NameError",
          "evalue": "name 'df_one' is not defined",
          "traceback": [
            "\u001b[0;31m---------------------------------------------------------------------------\u001b[0m",
            "\u001b[0;31mNameError\u001b[0m                                 Traceback (most recent call last)",
            "\u001b[0;32m<ipython-input-1-10d782ba5503>\u001b[0m in \u001b[0;36m<cell line: 0>\u001b[0;34m()\u001b[0m\n\u001b[1;32m      1\u001b[0m \u001b[0mindex\u001b[0m \u001b[0;34m=\u001b[0m \u001b[0;36m0\u001b[0m\u001b[0;34m\u001b[0m\u001b[0;34m\u001b[0m\u001b[0m\n\u001b[0;32m----> 2\u001b[0;31m \u001b[0;32mfor\u001b[0m \u001b[0mrow\u001b[0m \u001b[0;32min\u001b[0m \u001b[0mdf_one\u001b[0m\u001b[0;34m.\u001b[0m\u001b[0mitertuples\u001b[0m\u001b[0;34m(\u001b[0m\u001b[0mindex\u001b[0m\u001b[0;34m=\u001b[0m\u001b[0;32mFalse\u001b[0m\u001b[0;34m)\u001b[0m\u001b[0;34m:\u001b[0m\u001b[0;34m\u001b[0m\u001b[0;34m\u001b[0m\u001b[0m\n\u001b[0m\u001b[1;32m      3\u001b[0m     \u001b[0mrequest_dto\u001b[0m \u001b[0;34m=\u001b[0m \u001b[0mRequestDto\u001b[0m\u001b[0;34m(\u001b[0m\u001b[0mtitle\u001b[0m\u001b[0;34m=\u001b[0m\u001b[0mrow\u001b[0m\u001b[0;34m.\u001b[0m\u001b[0mtitle\u001b[0m\u001b[0;34m,\u001b[0m \u001b[0murl\u001b[0m\u001b[0;34m=\u001b[0m\u001b[0mrow\u001b[0m\u001b[0;34m.\u001b[0m\u001b[0murl\u001b[0m\u001b[0;34m,\u001b[0m \u001b[0mcontent\u001b[0m\u001b[0;34m=\u001b[0m\u001b[0mrow\u001b[0m\u001b[0;34m.\u001b[0m\u001b[0mcontent\u001b[0m\u001b[0;34m)\u001b[0m\u001b[0;34m\u001b[0m\u001b[0;34m\u001b[0m\u001b[0m\n\u001b[1;32m      4\u001b[0m     \u001b[0mresponse_dto\u001b[0m \u001b[0;34m=\u001b[0m \u001b[0;34m[\u001b[0m\u001b[0;34m]\u001b[0m\u001b[0;34m\u001b[0m\u001b[0;34m\u001b[0m\u001b[0m\n\u001b[1;32m      5\u001b[0m     flow_state = FlowState(\n",
            "\u001b[0;31mNameError\u001b[0m: name 'df_one' is not defined"
          ]
        }
      ]
    }
  ]
}