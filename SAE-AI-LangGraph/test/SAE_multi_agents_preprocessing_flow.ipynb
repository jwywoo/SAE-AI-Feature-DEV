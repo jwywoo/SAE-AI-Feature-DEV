{
  "nbformat": 4,
  "nbformat_minor": 0,
  "metadata": {
    "colab": {
      "provenance": [],
      "collapsed_sections": [
        "YtVhicL1v7Pv",
        "G1RjnwfawFp2",
        "pFD3cE5ewHRS",
        "8JWhGHpTwKbA"
      ]
    },
    "kernelspec": {
      "name": "python3",
      "display_name": "Python 3"
    },
    "language_info": {
      "name": "python"
    }
  },
  "cells": [
    {
      "cell_type": "markdown",
      "source": [
        "# Colab Imports"
      ],
      "metadata": {
        "id": "YtVhicL1v7Pv"
      }
    },
    {
      "cell_type": "code",
      "execution_count": 178,
      "metadata": {
        "colab": {
          "base_uri": "https://localhost:8080/"
        },
        "id": "-47R_NtxvsP4",
        "outputId": "c7eaacbd-f8e0-4b8c-8575-8417b3d85b66"
      },
      "outputs": [
        {
          "output_type": "stream",
          "name": "stdout",
          "text": [
            "Drive already mounted at /content/drive; to attempt to forcibly remount, call drive.mount(\"/content/drive\", force_remount=True).\n"
          ]
        }
      ],
      "source": [
        "from google.colab import drive\n",
        "from google.colab import userdata\n",
        "drive.mount('/content/drive')"
      ]
    },
    {
      "cell_type": "markdown",
      "source": [
        "# Installation"
      ],
      "metadata": {
        "id": "G1RjnwfawFp2"
      }
    },
    {
      "cell_type": "code",
      "source": [
        "!pip -q install langgraph langchain_openai langchain_community tiktoken konlpy"
      ],
      "metadata": {
        "id": "yqa_3dnkwhF_"
      },
      "execution_count": 179,
      "outputs": []
    },
    {
      "cell_type": "markdown",
      "source": [
        "# Settings & Loadings"
      ],
      "metadata": {
        "id": "pFD3cE5ewHRS"
      }
    },
    {
      "cell_type": "code",
      "source": [
        "import os\n",
        "import json\n",
        "import pandas as pd\n",
        "\n",
        "os.environ['OPENAI_API_KEY'] = userdata.get('OPENAI_API_KEY')\n",
        "\n",
        "PROFECT_DIR = os.path.join(\"/content/drive/MyDrive\", \"Profect SAE\")\n",
        "CSVs = os.path.join(PROFECT_DIR, \"test_data/CSVs\")\n",
        "files = os.listdir(CSVs)\n",
        "csv_files = [\n",
        "    file for file in files\n",
        "      if file.endswith(\".csv\")\n",
        "]\n",
        "\n",
        "df_one = pd.read_csv(os.path.join(CSVs, csv_files[0]))\n",
        "print(df_one.iloc[0])"
      ],
      "metadata": {
        "colab": {
          "base_uri": "https://localhost:8080/"
        },
        "id": "mpqOfVczwgq0",
        "outputId": "dc1e6797-3f7c-4629-823b-19ea6408821a"
      },
      "execution_count": 180,
      "outputs": [
        {
          "output_type": "stream",
          "name": "stdout",
          "text": [
            "title      [종합] 김태희, 해외서 권총 강도 당했다…'연매출 1100억' 정샘물 \"피해액 2...\n",
            "url        https://m.entertain.naver.com/article/312/0000...\n",
            "content    본문 바로가기 naver 엔터 뉴스 스포츠 사용자 링크 로그인 검색 홈 드라마 영화...\n",
            "Name: 0, dtype: object\n"
          ]
        }
      ]
    },
    {
      "cell_type": "markdown",
      "source": [
        "# Models & Schema\n",
        "- `gpt-4o-mini`\n",
        "- `text-embedding-3-large`"
      ],
      "metadata": {
        "id": "8JWhGHpTwKbA"
      }
    },
    {
      "cell_type": "code",
      "source": [
        "from langchain_openai import ChatOpenAI\n",
        "llm = ChatOpenAI(model_name=\"gpt-4o-mini\", temperature=0)"
      ],
      "metadata": {
        "id": "8X7BWTp2wgbG"
      },
      "execution_count": 181,
      "outputs": []
    },
    {
      "cell_type": "code",
      "source": [
        "from pydantic import BaseModel, Field\n",
        "from typing import Optional, List\n",
        "\n",
        "class RequestDto(BaseModel):\n",
        "  title: str = Field(..., min_length=1)\n",
        "  url: str = Field(..., min_length=5, max_length=2083)\n",
        "  content: str = Field(..., min_length=1)"
      ],
      "metadata": {
        "id": "03-KYetDyIlp"
      },
      "execution_count": 182,
      "outputs": []
    },
    {
      "cell_type": "markdown",
      "source": [
        "# Nodes, Agents & Tools\n",
        "- Agents\n",
        "  - `preprocessing_routing_agent`\n",
        "  - `preprocessing_closing_agent`\n",
        "- Supporting Nodes\n",
        "  - `naver_news_preprocessing`\n",
        "  - `naver_entertainment_preprocessing`\n",
        "  - `naver_sports_preprocessing`\n",
        "  - `youtube_preprocessing`\n",
        "- Tools\n",
        "  - `text_cleaning`"
      ],
      "metadata": {
        "id": "T8jBf21-wMX3"
      }
    },
    {
      "cell_type": "markdown",
      "source": [
        "## Agents\n",
        "- `preprocessing_routing_agent`\n",
        "- `preprocessing_closing_agent`"
      ],
      "metadata": {
        "id": "5tZ6y21Oxq8o"
      }
    },
    {
      "cell_type": "code",
      "source": [
        "import re\n",
        "\n",
        "def preprocessing_routing_agent(requestDto: RequestDto) -> dict:\n",
        "    youtube_pattern = r\"^https?://(www\\.)?youtube\\.com\"\n",
        "    naver_news_pattern = r\"^https?://n\\.news\\.naver\\.com\"\n",
        "    naver_entertainment_pattern = r\"^https?://m\\.entertain\\.naver\\.com\"\n",
        "    naver_sports_pattern = r\"^https?://m\\.sports\\.naver\\.com\"\n",
        "\n",
        "    if re.match(naver_news_pattern, requestDto.url):\n",
        "        route = \"naver_news\"\n",
        "\n",
        "    elif re.match(naver_entertainment_pattern, requestDto.url):\n",
        "        route = \"naver_entertainment\"\n",
        "\n",
        "    elif re.match(naver_sports_pattern, requestDto.url):\n",
        "        route = \"naver_sports\"\n",
        "\n",
        "    elif re.match(youtube_pattern, requestDto.url):\n",
        "        route = \"youtube\"\n",
        "    else:\n",
        "        route = \"default\"\n",
        "\n",
        "    # Basic text cleaning\n",
        "\n",
        "    ## Title\n",
        "    requestDto.title = text_cleaning(requestDto.title)\n",
        "\n",
        "    ## Content\n",
        "    requestDto.content = text_cleaning(requestDto.content)\n",
        "\n",
        "    # Add route to the requestDto and return as a dictionary\n",
        "    return {\"requestDto\": requestDto, \"route\": route}"
      ],
      "metadata": {
        "id": "uCdi1mrv_BS-"
      },
      "execution_count": 183,
      "outputs": []
    },
    {
      "cell_type": "code",
      "source": [
        "korean_stopwords = [\n",
        "    \"아\", \"휴\", \"아이구\", \"아이쿠\", \"아이고\", \"어\", \"나\", \"우리\", \"저희\", \"따라\", \"의해\", \"을\", \"를\", \"에\", \"의\", \"가\",\n",
        "    \"으로\", \"로\", \"에게\", \"뿐이다\", \"의거하여\", \"근거하여\", \"입각하여\", \"기준으로\", \"예하면\", \"예를 들면\", \"예를 들자면\",\n",
        "    \"저\", \"소인\", \"소생\", \"저희\", \"지말고\", \"하지마\", \"하지마라\", \"다른\", \"물론\", \"또한\", \"그리고\", \"비길수 없다\", \"해서는 안된다\",\n",
        "    \"뿐만 아니라\", \"만이 아니다\", \"만은 아니다\", \"막론하고\", \"관계없이\", \"그치지 않다\", \"그러나\", \"그런데\", \"하지만\", \"든간에\",\n",
        "    \"논하지 않다\", \"따지지 않다\", \"설사\", \"비록\", \"더라도\", \"아니면\", \"만 못하다\", \"하는 편이 낫다\", \"불문하고\", \"향하여\",\n",
        "    \"향해서\", \"향하다\", \"쪽으로\", \"틈타\", \"이용하여\", \"타다\", \"오르다\", \"제외하고\", \"이 외에\", \"이 밖에\", \"하여야\",\n",
        "    \"비로소\", \"한다면 몰라도\", \"외에도\", \"이곳\", \"여기\", \"부터\", \"기점으로\", \"따라서\", \"할 생각이다\", \"하려고하다\",\n",
        "    \"이리하여\", \"그리하여\", \"그렇게 함으로써\", \"하지만\", \"일때\", \"할때\", \"앞에서\", \"중에서\", \"보는데서\", \"으로써\", \"로써\",\n",
        "    \"까지\", \"해야한다\", \"일것이다\", \"반드시\", \"할줄알다\", \"할수있다\", \"할수있어\", \"임에 틀림없다\", \"한다면\", \"등\", \"등등\",\n",
        "    \"제\", \"겨우\", \"단지\", \"다만\", \"할뿐\", \"딩동\", \"댕그\", \"대해서\", \"대하여\", \"대하면\", \"훨씬\", \"얼마나\", \"얼마만큼\",\n",
        "    \"얼마큼\", \"남짓\", \"여\", \"얼마간\", \"약간\", \"다소\", \"좀\", \"조금\", \"다수\", \"몇\", \"얼마\", \"지만\", \"하물며\", \"또한\",\n",
        "    \"그러나\", \"그렇지만\", \"하지만\", \"이외에도\", \"대해 말하자면\", \"뿐이다\", \"다음에\", \"반대로\", \"반대로 말하자면\",\n",
        "    \"이와 반대로\", \"바꾸어서 말하면\", \"바꾸어서 한다면\", \"만약\", \"그렇지않으면\", \"까악\", \"툭\", \"딱\", \"삐걱거리다\",\n",
        "    \"보드득\", \"비걱거리다\", \"꽈당\", \"응당\", \"해야한다\", \"에 가서\", \"각\", \"각각\", \"여러분\", \"각종\", \"각자\", \"제각기\",\n",
        "    \"하도록하다\", \"와\", \"과\", \"그러므로\", \"그래서\", \"고로\", \"한 까닭에\", \"하기 때문에\", \"거니와\", \"이지만\", \"대하여\",\n",
        "    \"관하여\", \"관한\", \"과연\", \"실로\", \"아니나다를가\", \"생각한대로\", \"진짜로\", \"한적이있다\", \"하곤하였다\", \"하\", \"하하\",\n",
        "    \"허허\", \"아하\", \"거바\", \"와\", \"오\", \"왜\", \"어째서\", \"무엇때문에\", \"어찌\", \"하겠는가\", \"무슨\", \"어디\", \"어느곳\",\n",
        "    \"더군다나\", \"하물며\", \"더욱이는\", \"어느때\", \"언제\", \"야\", \"이봐\", \"어이\", \"여보시오\", \"흐흐\", \"흥\", \"휴\", \"헉헉\",\n",
        "    \"헐떡헐떡\", \"영차\", \"여차\", \"어기여차\", \"끙끙\", \"아야\", \"앗\", \"아야\", \"콸콸\", \"졸졸\", \"좍좍\", \"뚝뚝\", \"주룩주룩\",\n",
        "    \"솨\", \"우르르\", \"그래도\", \"또\", \"그리고\", \"바꾸어말하면\", \"바꾸어말하자면\", \"혹은\", \"혹시\", \"답다\", \"및\", \"그에 따르는\",\n",
        "    \"때가 되어\", \"즉\", \"지든지\", \"설령\", \"가령\", \"하더라도\", \"할지라도\", \"일지라도\", \"지든지\", \"몇\", \"거의\", \"하마터면\",\n",
        "    \"인젠\", \"이젠\", \"된바에야\", \"된이상\", \"만큼\", \"어찌됏든\", \"그위에\", \"게다가\", \"점에서 보아\", \"비추어 보아\", \"고려하면\",\n",
        "    \"하게될것이다\", \"일것이다\", \"비교적\", \"좀\", \"보다더\", \"비하면\", \"시키다\", \"하게하다\", \"할만하다\", \"의해서\", \"연이서\",\n",
        "    \"이어서\", \"잇따라\", \"뒤따라\", \"뒤이어\", \"결국\", \"의지하여\", \"기대여\", \"통하여\", \"자마자\", \"더욱더\", \"불구하고\",\n",
        "    \"얼마든지\", \"마음대로\", \"주저하지 않고\", \"곧\", \"즉시\", \"바로\", \"당장\", \"하자마자\", \"밖에 안된다\", \"하면된다\", \"그래\",\n",
        "    \"그렇지\", \"요컨대\", \"다시 말하자면\", \"바꿔 말하면\", \"즉\", \"구체적으로\", \"말하자면\", \"시작하여\", \"시초에\", \"이상\", \"허\",\n",
        "    \"헉\", \"허걱\", \"바와같이\", \"해도좋다\", \"해도된다\", \"게다가\", \"더구나\", \"하물며\", \"와르르\", \"팍\", \"퍽\", \"펄렁\", \"동안\",\n",
        "    \"이래\", \"하고있었다\", \"이었다\", \"에서\", \"로부터\", \"까지\", \"예하면\", \"했어요\", \"해요\", \"함께\", \"같이\", \"더불어\", \"마저\",\n",
        "    \"마저도\", \"양자\", \"모두\", \"습니다\", \"가까스로\", \"하려고하다\", \"즈음하여\", \"다른\", \"다른 방면으로\", \"해봐요\", \"습니까\",\n",
        "    \"했어요\", \"말할것도 없고\", \"무릎쓰고\", \"개의치않고\", \"하는것만 못하다\", \"하는것이 낫다\", \"매\", \"매번\", \"들\", \"모\", \"어느것\",\n",
        "    \"어느\", \"로써\", \"갖고말하자면\", \"어디\", \"어느쪽\", \"어느것\", \"어느해\", \"어느 년도\", \"라 해도\", \"언젠가\", \"어떤것\", \"어느것\",\n",
        "    \"저기\", \"저쪽\", \"저것\", \"그때\", \"그럼\", \"그러면\", \"요만한걸\", \"그래\", \"그때\", \"저것만큼\", \"그저\", \"이르기까지\", \"할 줄 안다\",\n",
        "    \"할 힘이 있다\", \"너\", \"너희\", \"당신\", \"어찌\", \"설마\", \"차라리\", \"할지언정\", \"할지라도\", \"할망정\", \"할지언정\", \"년\", \"월\",\n",
        "    \"일\", \"하나\", \"둘\", \"셋\", \"넷\", \"다섯\", \"여섯\", \"일곱\", \"여덟\", \"아홉\"\n",
        "]"
      ],
      "metadata": {
        "id": "gq5ATbz4F2TS"
      },
      "execution_count": 184,
      "outputs": []
    },
    {
      "cell_type": "code",
      "source": [
        "from konlpy.tag import Okt\n",
        "\n",
        "def preprocessing_closing_agent(requestDto) -> RequestDto:\n",
        "  content = requestDto['requestDto'].content\n",
        "  okt = Okt()\n",
        "  content_tokens = okt.morphs(content)\n",
        "\n",
        "  result = [\n",
        "      word for word in content_tokens\n",
        "        if not word in korean_stopwords\n",
        "      ]\n",
        "  reqest_dto = RequestDto(title=requestDto['requestDto'].title, url=requestDto['requestDto'].url, content=\" \".join(result))\n",
        "  # request_dto = requestDto['requestDto']\n",
        "  return request_dto"
      ],
      "metadata": {
        "id": "uBBQOkYT8iE1"
      },
      "execution_count": 185,
      "outputs": []
    },
    {
      "cell_type": "code",
      "source": [
        "from langchain.prompts import PromptTemplate\n",
        "\n",
        "def generation_model(requestDto):\n",
        "  template = \"Title: {title} URL: {url} Content: {content}\"\n",
        "  message = template.format(title=requestDto.title, url=requestDto.url, content=requestDto.content)\n",
        "  prompt = PromptTemplate.from_template(\"Based on following information give me the related company: {topic}\")\n",
        "  formatted_prompt = prompt.format(topic=message)\n",
        "  # Invoke the llm with the message string\n",
        "  print(llm.invoke(formatted_prompt).content)\n",
        "  return requestDto"
      ],
      "metadata": {
        "id": "TebKS4qilrDH"
      },
      "execution_count": 186,
      "outputs": []
    },
    {
      "cell_type": "markdown",
      "source": [
        "### Tools\n",
        "- `text_cleaning`"
      ],
      "metadata": {
        "id": "AvkhJ-0CGAiJ"
      }
    },
    {
      "cell_type": "code",
      "source": [
        "from langchain_core.tools import tool\n",
        "\n",
        "@tool\n",
        "def text_cleaning(text: str) -> str:\n",
        "    \"\"\"Cleaning text by removing unnecessary characters and spaces.\"\"\"\n",
        "    if isinstance(text, str):\n",
        "        # Convert to lowercase\n",
        "        text = text.lower()\n",
        "        # Remove leading and trailing spaces\n",
        "        text = text.strip()\n",
        "        # Replace multiple spaces with a single space\n",
        "        text = re.sub(r'\\s+', ' ', text)\n",
        "        # Remove special characters except for common ones\n",
        "        text = re.sub(r'[^\\w\\s.,!?$%&@()-]', '', text)\n",
        "    return text"
      ],
      "metadata": {
        "id": "evSTdaVQKU9f"
      },
      "execution_count": 187,
      "outputs": []
    },
    {
      "cell_type": "markdown",
      "source": [
        "## Nodes\n",
        "- `naver_news_preprocessing`\n",
        "- `naver_entertainment_preprocessing`\n",
        "- `naver_sports_preprocessing`\n",
        "- `youtube_preprocessing`"
      ],
      "metadata": {
        "id": "EbjL-P4nxt25"
      }
    },
    {
      "cell_type": "code",
      "source": [
        "import re\n",
        "\n",
        "\n",
        "def content_preprocessing(text: str, remove_after: str = None, patterns: list = None) -> str:\n",
        "    if not isinstance(text, str):\n",
        "        return text\n",
        "\n",
        "    if remove_after:\n",
        "        text = re.sub(fr\"{remove_after}.*\", \"\", text, flags=re.IGNORECASE)\n",
        "\n",
        "    if patterns:\n",
        "      combined_pattern = \"|\".join(patterns)\n",
        "      text = re.sub(combined_pattern, \"\", text, flags=re.IGNORECASE)\n",
        "\n",
        "    # Remove excessive whitespace\n",
        "    text = re.sub(r\"\\s+\", \" \", text).strip()\n",
        "\n",
        "    return text\n",
        "\n",
        "def preprocessing_naver_news(requestDto):\n",
        "    \"\"\"Cleans Naver News content.\"\"\"\n",
        "    requestDto['requestDto'].content = content_preprocessing(requestDto['requestDto'].content, remove_after=\"copyright .*?\\. all rights reserved\")\n",
        "    requestDto['requestDto'].content = content_preprocessing(requestDto['requestDto'].content, remove_after=\"기사 공유하기\")\n",
        "    requestDto['requestDto'].content = content_preprocessing(requestDto['requestDto'].content, patterns = [\n",
        "            r\"본문 바로가기\", r\"naver\", r\"뉴스\", r\"엔터\", r\"스포츠\", r\"날씨\", r\"프리미엄\",\n",
        "            r\"사용자 링크\", r\"로그인\", r\"서비스\", r\"더보기\", r\"검색\", r\"언론사별\", r\"정치\",\n",
        "            r\"경제\", r\"사회\", r\"생활문화\", r\"it과학\", r\"세계\", r\"랭킹\", r\"신문보기\",\n",
        "            r\"오피니언\", r\"tv\", r\"팩트체크\", r\"알고리즘 안내\", r\"정정보도 모음\"])\n",
        "    return requestDto\n",
        "\n",
        "def preprocessing_naver_entertainment(requestDto):\n",
        "    \"\"\"Cleans Naver Entertainment content.\"\"\"\n",
        "    requestDto['requestDto'].content = content_preprocessing(requestDto['requestDto'].content, remove_after=\"copyright .*?\\. all rights reserved\")\n",
        "    requestDto['requestDto'].content = content_preprocessing(requestDto['requestDto'].content, remove_after=\"기사 공유하기\")\n",
        "    requestDto['requestDto'].content = content_preprocessing(requestDto['requestDto'].content, patterns = [r\"본문 바로가기\", r\"naver\", r\"엔터\", r\"뉴스\", r\"스포츠\", r\"사용자 링크\", r\"로그인\", r\"검색\", r\"홈\",\n",
        "                                                                                                           r\"드라마\", r\"영화\", r\"뮤직\", r\"연애\", r\"포토\", r\"랭킹\", r\"최신뉴스\", r\"연재\", r\"종합\"])\n",
        "    return requestDto\n",
        "\n",
        "def preprocessing_naver_sports(requestDto):\n",
        "    \"\"\"Cleans Naver Sports content.\"\"\"\n",
        "    requestDto['requestDto'].content = content_preprocessing(requestDto['requestDto'].content, remove_after=\"copyright .*?\\. all rights reserved\")\n",
        "    requestDto['requestDto'].content = content_preprocessing(requestDto['requestDto'].content, remove_after=\"기사 공유하기\")\n",
        "    return requestDto\n",
        "\n",
        "def preprocessing_youtube(requestDto):\n",
        "    \"\"\"Cleans YouTube transcript content.\"\"\"\n",
        "    requestDto['requestDto'].content = content_preprocessing(requestDto['requestDto'].content, remove_after=\"더보기\")\n",
        "    return requestDto"
      ],
      "metadata": {
        "id": "AXHN4fldxy63"
      },
      "execution_count": 188,
      "outputs": []
    },
    {
      "cell_type": "markdown",
      "source": [
        "# Flow"
      ],
      "metadata": {
        "id": "acCSDgjBwem2"
      }
    },
    {
      "cell_type": "code",
      "source": [
        "from langgraph.graph import Graph, START, END\n",
        "\n",
        "workflow = Graph()\n",
        "\n",
        "# Registring Nodes\n",
        "workflow.add_node(\"preprocessing_routing_agent\",preprocessing_routing_agent)\n",
        "workflow.add_node(\"preprocessing_naver_news\",preprocessing_naver_news)\n",
        "workflow.add_node(\"preprocessing_naver_entertainment\",preprocessing_naver_entertainment)\n",
        "workflow.add_node(\"preprocessing_naver_sports\",preprocessing_naver_sports)\n",
        "workflow.add_node(\"preprocessing_youtube\",preprocessing_youtube)\n",
        "workflow.add_node(\"preprocessing_closing_agent\", preprocessing_closing_agent)\n",
        "# workflow.add_node(\"generation_model\", generation_model)\n",
        "\n",
        "# Registring edges\n",
        "## START\n",
        "workflow.add_edge(START, \"preprocessing_routing_agent\")\n",
        "\n",
        "## Conditional Edges\n",
        "workflow.add_conditional_edges(\n",
        "    \"preprocessing_routing_agent\",\n",
        "    lambda output: output[\"route\"],\n",
        "    {\n",
        "        \"naver_news\": \"preprocessing_naver_news\",\n",
        "        \"naver_entertainment\": \"preprocessing_naver_entertainment\",\n",
        "        \"naver_sports\": \"preprocessing_naver_sports\",\n",
        "        \"youtube\": \"preprocessing_youtube\",\n",
        "        \"default\": \"preprocessing_closing_agent\",\n",
        "    }\n",
        ")\n",
        "\n",
        "## Edges\n",
        "workflow.add_edge(\"preprocessing_naver_news\", \"preprocessing_closing_agent\")\n",
        "workflow.add_edge(\"preprocessing_naver_entertainment\", \"preprocessing_closing_agent\")\n",
        "workflow.add_edge(\"preprocessing_naver_sports\", \"preprocessing_closing_agent\")\n",
        "## End\n",
        "workflow.add_edge(\"preprocessing_youtube\", \"preprocessing_closing_agent\")\n",
        "workflow.add_edge(\"preprocessing_closing_agent\", END)\n",
        "# workflow.add_edge(\"preprocessing_closing_agent\", \"generation_model\")\n",
        "# workflow.add_edge(\"generation_model\", END)\n",
        "\n",
        "# Compiling\n",
        "preprocessing_flow = workflow.compile()"
      ],
      "metadata": {
        "id": "I-oKdmkVwfwn"
      },
      "execution_count": 190,
      "outputs": []
    },
    {
      "cell_type": "markdown",
      "source": [
        "# Visualization"
      ],
      "metadata": {
        "id": "BGVyo4YAwi6O"
      }
    },
    {
      "cell_type": "code",
      "source": [
        "# Visualize your graph\n",
        "from IPython.display import Image, display\n",
        "png = preprocessing_flow.get_graph().draw_mermaid_png()\n",
        "display(Image(png))"
      ],
      "metadata": {
        "colab": {
          "base_uri": "https://localhost:8080/",
          "height": 473
        },
        "id": "aw-yhmFMwlUq",
        "outputId": "51011321-4c9c-49c6-d7ab-702c35dfbd52"
      },
      "execution_count": 191,
      "outputs": [
        {
          "output_type": "display_data",
          "data": {
            "image/png": "[encoded data removed]",
            "text/plain": [
              "<IPython.core.display.Image object>"
            ]
          },
          "metadata": {}
        }
      ]
    },
    {
      "cell_type": "markdown",
      "source": [
        "# Test"
      ],
      "metadata": {
        "id": "67DoUIGb3iLS"
      }
    },
    {
      "cell_type": "code",
      "source": [
        "import tiktoken\n",
        "def token_counter(request_dto):\n",
        "  encoding = tiktoken.get_encoding(\"cl100k_base\")\n",
        "\n",
        "  result = len(encoding.encode(request_dto.title))\n",
        "  result += len(encoding.encode(request_dto.url))\n",
        "  result += len(encoding.encode(request_dto.content))\n",
        "\n",
        "  return result"
      ],
      "metadata": {
        "id": "2cSEQ2UCHCQu"
      },
      "execution_count": 192,
      "outputs": []
    },
    {
      "cell_type": "code",
      "source": [
        "before_avg_count = 0\n",
        "after_avg_count = 0\n",
        "row_count = 0\n",
        "for row in df_one.itertuples():\n",
        "  before_count = token_counter(row)\n",
        "  before_avg_count += before_count\n",
        "  print(f\"Number of tokens before preprocessing {before_count}\")\n",
        "  print()\n",
        "  request_dto = RequestDto(title=row.title, url=row.url, content=row.content)\n",
        "  preprocessed_request_dto = preprocessing_flow.invoke(request_dto)\n",
        "  # print(preprocessed_request_dto)\n",
        "  after_count = token_counter(preprocessed_request_dto)\n",
        "  after_avg_count += after_count\n",
        "  print(f\"Number of tokens after preprocessing with multi-agents {after_count}\")\n",
        "  print()\n",
        "  print(f\"Number of token decreased {before_count-after_count}\")\n",
        "  print(\"----------------------------------------------------\")\n",
        "  print()\n",
        "  row_count+=1\n",
        "  # break\n",
        "\n",
        "print(f\"Average number of tokens before preprocessing {int(before_avg_count/row_count)}\")\n",
        "print(f\"Average number of tokens after preprocessing with multi-agents {int(after_avg_count/row_count)}\")\n",
        "print(f\"Average number of tokens decreased {int((before_avg_count-after_avg_count)/row_count)}\")"
      ],
      "metadata": {
        "colab": {
          "base_uri": "https://localhost:8080/"
        },
        "id": "ZerjWYgA3hL_",
        "outputId": "2ad6746b-6128-41c5-9667-c989319d0b99"
      },
      "execution_count": 193,
      "outputs": [
        {
          "output_type": "stream",
          "name": "stdout",
          "text": [
            "Number of tokens before preprocessing 2878\n",
            "\n",
            "Number of tokens after preprocessing with multi-agents 1387\n",
            "\n",
            "Number of token decreased 1491\n",
            "----------------------------------------------------\n",
            "\n",
            "Number of tokens before preprocessing 2854\n",
            "\n",
            "Number of tokens after preprocessing with multi-agents 1379\n",
            "\n",
            "Number of token decreased 1475\n",
            "----------------------------------------------------\n",
            "\n",
            "Number of tokens before preprocessing 3521\n",
            "\n",
            "Number of tokens after preprocessing with multi-agents 1981\n",
            "\n",
            "Number of token decreased 1540\n",
            "----------------------------------------------------\n",
            "\n",
            "Number of tokens before preprocessing 3007\n",
            "\n",
            "Number of tokens after preprocessing with multi-agents 1443\n",
            "\n",
            "Number of token decreased 1564\n",
            "----------------------------------------------------\n",
            "\n",
            "Number of tokens before preprocessing 2459\n",
            "\n",
            "Number of tokens after preprocessing with multi-agents 980\n",
            "\n",
            "Number of token decreased 1479\n",
            "----------------------------------------------------\n",
            "\n",
            "Number of tokens before preprocessing 10727\n",
            "\n",
            "Number of tokens after preprocessing with multi-agents 2414\n",
            "\n",
            "Number of token decreased 8313\n",
            "----------------------------------------------------\n",
            "\n",
            "Number of tokens before preprocessing 4477\n",
            "\n",
            "Number of tokens after preprocessing with multi-agents 4165\n",
            "\n",
            "Number of token decreased 312\n",
            "----------------------------------------------------\n",
            "\n",
            "Number of tokens before preprocessing 9478\n",
            "\n",
            "Number of tokens after preprocessing with multi-agents 1564\n",
            "\n",
            "Number of token decreased 7914\n",
            "----------------------------------------------------\n",
            "\n",
            "Number of tokens before preprocessing 9718\n",
            "\n",
            "Number of tokens after preprocessing with multi-agents 1583\n",
            "\n",
            "Number of token decreased 8135\n",
            "----------------------------------------------------\n",
            "\n",
            "Number of tokens before preprocessing 4817\n",
            "\n",
            "Number of tokens after preprocessing with multi-agents 761\n",
            "\n",
            "Number of token decreased 4056\n",
            "----------------------------------------------------\n",
            "\n",
            "Number of tokens before preprocessing 9992\n",
            "\n",
            "Number of tokens after preprocessing with multi-agents 1372\n",
            "\n",
            "Number of token decreased 8620\n",
            "----------------------------------------------------\n",
            "\n",
            "Number of tokens before preprocessing 9237\n",
            "\n",
            "Number of tokens after preprocessing with multi-agents 1633\n",
            "\n",
            "Number of token decreased 7604\n",
            "----------------------------------------------------\n",
            "\n",
            "Number of tokens before preprocessing 8863\n",
            "\n",
            "Number of tokens after preprocessing with multi-agents 750\n",
            "\n",
            "Number of token decreased 8113\n",
            "----------------------------------------------------\n",
            "\n",
            "Number of tokens before preprocessing 9334\n",
            "\n",
            "Number of tokens after preprocessing with multi-agents 967\n",
            "\n",
            "Number of token decreased 8367\n",
            "----------------------------------------------------\n",
            "\n",
            "Number of tokens before preprocessing 9606\n",
            "\n",
            "Number of tokens after preprocessing with multi-agents 1089\n",
            "\n",
            "Number of token decreased 8517\n",
            "----------------------------------------------------\n",
            "\n",
            "Number of tokens before preprocessing 9671\n",
            "\n",
            "Number of tokens after preprocessing with multi-agents 1462\n",
            "\n",
            "Number of token decreased 8209\n",
            "----------------------------------------------------\n",
            "\n",
            "Number of tokens before preprocessing 10376\n",
            "\n",
            "Number of tokens after preprocessing with multi-agents 1889\n",
            "\n",
            "Number of token decreased 8487\n",
            "----------------------------------------------------\n",
            "\n",
            "Number of tokens before preprocessing 10639\n",
            "\n",
            "Number of tokens after preprocessing with multi-agents 2007\n",
            "\n",
            "Number of token decreased 8632\n",
            "----------------------------------------------------\n",
            "\n",
            "Number of tokens before preprocessing 10341\n",
            "\n",
            "Number of tokens after preprocessing with multi-agents 1397\n",
            "\n",
            "Number of token decreased 8944\n",
            "----------------------------------------------------\n",
            "\n",
            "Number of tokens before preprocessing 10003\n",
            "\n",
            "Number of tokens after preprocessing with multi-agents 1533\n",
            "\n",
            "Number of token decreased 8470\n",
            "----------------------------------------------------\n",
            "\n",
            "Number of tokens before preprocessing 9525\n",
            "\n",
            "Number of tokens after preprocessing with multi-agents 1346\n",
            "\n",
            "Number of token decreased 8179\n",
            "----------------------------------------------------\n",
            "\n",
            "Number of tokens before preprocessing 9271\n",
            "\n",
            "Number of tokens after preprocessing with multi-agents 1282\n",
            "\n",
            "Number of token decreased 7989\n",
            "----------------------------------------------------\n",
            "\n",
            "Number of tokens before preprocessing 9610\n",
            "\n",
            "Number of tokens after preprocessing with multi-agents 1677\n",
            "\n",
            "Number of token decreased 7933\n",
            "----------------------------------------------------\n",
            "\n",
            "Number of tokens before preprocessing 9434\n",
            "\n",
            "Number of tokens after preprocessing with multi-agents 1109\n",
            "\n",
            "Number of token decreased 8325\n",
            "----------------------------------------------------\n",
            "\n",
            "Number of tokens before preprocessing 9796\n",
            "\n",
            "Number of tokens after preprocessing with multi-agents 1664\n",
            "\n",
            "Number of token decreased 8132\n",
            "----------------------------------------------------\n",
            "\n",
            "Number of tokens before preprocessing 1807\n",
            "\n",
            "Number of tokens after preprocessing with multi-agents 361\n",
            "\n",
            "Number of token decreased 1446\n",
            "----------------------------------------------------\n",
            "\n",
            "Number of tokens before preprocessing 2695\n",
            "\n",
            "Number of tokens after preprocessing with multi-agents 236\n",
            "\n",
            "Number of token decreased 2459\n",
            "----------------------------------------------------\n",
            "\n",
            "Number of tokens before preprocessing 1575\n",
            "\n",
            "Number of tokens after preprocessing with multi-agents 169\n",
            "\n",
            "Number of token decreased 1406\n",
            "----------------------------------------------------\n",
            "\n",
            "Number of tokens before preprocessing 1950\n",
            "\n",
            "Number of tokens after preprocessing with multi-agents 306\n",
            "\n",
            "Number of token decreased 1644\n",
            "----------------------------------------------------\n",
            "\n",
            "Number of tokens before preprocessing 1770\n",
            "\n",
            "Number of tokens after preprocessing with multi-agents 228\n",
            "\n",
            "Number of token decreased 1542\n",
            "----------------------------------------------------\n",
            "\n",
            "Number of tokens before preprocessing 5013\n",
            "\n",
            "Number of tokens after preprocessing with multi-agents 4974\n",
            "\n",
            "Number of token decreased 39\n",
            "----------------------------------------------------\n",
            "\n",
            "Number of tokens before preprocessing 6593\n",
            "\n",
            "Number of tokens after preprocessing with multi-agents 6584\n",
            "\n",
            "Number of token decreased 9\n",
            "----------------------------------------------------\n",
            "\n",
            "Number of tokens before preprocessing 3949\n",
            "\n",
            "Number of tokens after preprocessing with multi-agents 3947\n",
            "\n",
            "Number of token decreased 2\n",
            "----------------------------------------------------\n",
            "\n",
            "Average number of tokens before preprocessing 6817\n",
            "Average number of tokens after preprocessing with multi-agents 1686\n",
            "Average number of tokens decreased 5131\n"
          ]
        }
      ]
    }
  ]
}