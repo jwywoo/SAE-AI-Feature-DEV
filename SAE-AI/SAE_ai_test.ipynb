{
  "cells": [
    {
      "cell_type": "markdown",
      "metadata": {
        "id": "sxempB6aua8x"
      },
      "source": [
        "## Basic Setting & Installation"
      ]
    },
    {
      "cell_type": "code",
      "execution_count": 3,
      "metadata": {
        "colab": {
          "base_uri": "https://localhost:8080/"
        },
        "id": "CCkAVpdXtd1j",
        "outputId": "948f2857-83a4-42b0-861d-1c90b324fb53"
      },
      "outputs": [
        {
          "name": "stdout",
          "output_type": "stream",
          "text": [
            "Drive already mounted at /content/drive; to attempt to forcibly remount, call drive.mount(\"/content/drive\", force_remount=True).\n"
          ]
        }
      ],
      "source": [
        "from google.colab import drive\n",
        "from google.colab import userdata\n",
        "import os\n",
        "drive.mount(\"/content/drive\")\n",
        "\n",
        "if \"OPENAI_API_KEY\" not in os.environ:\n",
        "  os.environ[\"OPENAI_API_KEY\"] = userdata.get('OPENAI_API_KEY')"
      ]
    },
    {
      "cell_type": "code",
      "execution_count": 13,
      "metadata": {
        "colab": {
          "base_uri": "https://localhost:8080/"
        },
        "id": "m7XL2f-5wfWU",
        "outputId": "6781ff5d-34df-4c2a-f545-627a5f621864"
      },
      "outputs": [
        {
          "name": "stdout",
          "output_type": "stream",
          "text": [
            "\u001b[?25l   \u001b[90m━━━━━━━━━━━━━━━━━━━━━━━━━━━━━━━━━━━━━━━━\u001b[0m \u001b[32m0.0/54.7 kB\u001b[0m \u001b[31m?\u001b[0m eta \u001b[36m-:--:--\u001b[0m\r\u001b[2K   \u001b[90m━━━━━━━━━━━━━━━━━━━━━━━━━━━━━━━━━━━━━━━━\u001b[0m \u001b[32m54.7/54.7 kB\u001b[0m \u001b[31m3.6 MB/s\u001b[0m eta \u001b[36m0:00:00\u001b[0m\n",
            "\u001b[?25h"
          ]
        }
      ],
      "source": [
        "%pip -q install tiktoken langchain langchain-core langchain-community langchain-openai"
      ]
    },
    {
      "cell_type": "markdown",
      "metadata": {
        "id": "0TzEvm_Xf-Y4"
      },
      "source": [
        "## Data Load"
      ]
    },
    {
      "cell_type": "code",
      "execution_count": 32,
      "metadata": {
        "colab": {
          "base_uri": "https://localhost:8080/"
        },
        "id": "kL2RJ2rdax1w",
        "outputId": "5028084e-9194-4f35-ee52-afb8bc13e599"
      },
      "outputs": [
        {
          "name": "stdout",
          "output_type": "stream",
          "text": [
            "input: good to go\n"
          ]
        }
      ],
      "source": [
        "import pandas as pd\n",
        "import os\n",
        "\n",
        "base_path = \"/content/drive/MyDrive/Profect SAE/test_data\"\n",
        "input_file = os.path.join(base_path, \"test_page_data_preprocessed.csv\")\n",
        "\n",
        "if os.path.exists(input_file):\n",
        "  print(\"input: good to go\")\n",
        "else:\n",
        "  print(\"input: not good\")\n",
        "\n",
        "df = pd.read_csv(input_file)\n",
        "title = df[\"Title\"].to_list()\n",
        "url = df[\"URL\"].to_list()\n",
        "cleaned_text = df[\"cleaned_innerText\"].to_list()"
      ]
    },
    {
      "cell_type": "markdown",
      "metadata": {
        "id": "MAEHuVJc_bYj"
      },
      "source": [
        "## Common Methods"
      ]
    },
    {
      "cell_type": "code",
      "execution_count": 46,
      "metadata": {
        "id": "m2Sqttou_dre"
      },
      "outputs": [],
      "source": [
        "def prompt_printer(prompt, input=\"Test\"):\n",
        "  print(prompt.format(input=input))"
      ]
    },
    {
      "cell_type": "code",
      "execution_count": 52,
      "metadata": {
        "id": "ekULarQRBqkB"
      },
      "outputs": [],
      "source": [
        "from langchain_openai import ChatOpenAI\n",
        "from langchain_core.output_parsers import StrOutputParser\n",
        "\n",
        "def mvp_chain(template, model_name):\n",
        "  llm = ChatOpenAI(model_name=model_name, temperature=0)\n",
        "  chain = template | llm | StrOutputParser()\n",
        "  return chain"
      ]
    },
    {
      "cell_type": "markdown",
      "metadata": {
        "id": "xdGpkhY6zkrG"
      },
      "source": [
        "## LangChain + OpenAI"
      ]
    },
    {
      "cell_type": "markdown",
      "metadata": {
        "id": "ipoaSpXfzoOg"
      },
      "source": [
        "### MVP Text - (Preprocess) -> OpenAI\n",
        "- Preprocess Done\n",
        "- OpenAI\n",
        "  - ChatPromptTemplate"
      ]
    },
    {
      "cell_type": "code",
      "execution_count": null,
      "metadata": {
        "id": "-lrTQ8MYziRF"
      },
      "outputs": [],
      "source": [
        "from langchain_core.prompts import (\n",
        "    ChatPromptTemplate\n",
        ")\n",
        "\n",
        "system_prompt = \"\"\"\n",
        "You are a helpful assistant that recommends stocks based on the given input.\n",
        "The input is collected data from a web page of the user and it contains three different types of information separated by [SEP]\n",
        "\n",
        "- Title: The title of the web page.\n",
        "- URL: The url of the web page.\n",
        "- Page Information: Text content of the web page.\n",
        "\n",
        "You have to use above information to find relevant stocks.\n",
        "\n",
        "**Important**\n",
        "- You need to find three relevant stocks from KOSPI and NASDAQ.\n",
        "- Don't generate if you can't find any.\n",
        "- Generate the result in the following format.\n",
        "[\n",
        "  {{\n",
        "    \"status\": true if the stock is found, false otherwise,\n",
        "    [\n",
        "      {{\n",
        "        \"stock_name\": Official name of the stock,\n",
        "        \"ticker_symbol\": Ticker symbol of the stock,\n",
        "        \"market_name\": Name of the market where the stock is traded\n",
        "      }}\n",
        "      ...\n",
        "    ]\n",
        "  }}\n",
        "]\n",
        "\"\"\"\n",
        "\n",
        "\n",
        "final_prompt = ChatPromptTemplate.from_messages(\n",
        "    [\n",
        "        ('system', system_prompt),\n",
        "        ('human', '{input}'),\n",
        "    ]\n",
        ")"
      ]
    },
    {
      "cell_type": "markdown",
      "metadata": {
        "id": "Us1dq-eJ_8oC"
      },
      "source": [
        "## Test"
      ]
    },
    {
      "cell_type": "code",
      "execution_count": 55,
      "metadata": {
        "colab": {
          "base_uri": "https://localhost:8080/"
        },
        "id": "cGjId_N3_-xF",
        "outputId": "caa96790-6ecf-43f0-a379-e93070d271ed"
      },
      "outputs": [
        {
          "name": "stdout",
          "output_type": "stream",
          "text": [
            "Test Start!\n",
            "1. Title: 빙속 김준호, 남자 500m 동메달…100m 3위 이어 '멀티 메달' 성공 [하얼빈 현장]\n",
            "URL: URL: https://m.sports.naver.com/general/article/311/0001825451\n",
            "\n",
            "[\n",
            "  {\n",
            "    \"status\": true,\n",
            "    \"stocks\": [\n",
            "      {\n",
            "        \"stock_name\": \"Korea Electric Power Corporation\",\n",
            "        \"ticker_symbol\": \"KEP\",\n",
            "        \"market_name\": \"KOSPI\"\n",
            "      },\n",
            "      {\n",
            "        \"stock_name\": \"Samsung Electronics Co., Ltd.\",\n",
            "        \"ticker_symbol\": \"005930\",\n",
            "        \"market_name\": \"KOSPI\"\n",
            "      },\n",
            "      {\n",
            "        \"stock_name\": \"NVIDIA Corporation\",\n",
            "        \"ticker_symbol\": \"NVDA\",\n",
            "        \"market_name\": \"NASDAQ\"\n",
            "      }\n",
            "    ]\n",
            "  }\n",
            "]\n",
            "-------------\n",
            "\n",
            "2. Title: [국제]중국, 보복 관세 발효...'조용한 기싸움' 언제까지? | YTN\n",
            "\n",
            "\n",
            "URL: URL: https://www.ytn.co.kr/_cs/_ln_0104_202502101459265615_005.html\n",
            "\n",
            "[\n",
            "  {\n",
            "    \"status\": true,\n",
            "    \"stocks\": [\n",
            "      {\n",
            "        \"stock_name\": \"Nucor Corporation\",\n",
            "        \"ticker_symbol\": \"NUE\",\n",
            "        \"market_name\": \"NYSE\"\n",
            "      },\n",
            "      {\n",
            "        \"stock_name\": \"Steel Dynamics, Inc.\",\n",
            "        \"ticker_symbol\": \"STLD\",\n",
            "        \"market_name\": \"NASDAQ\"\n",
            "      },\n",
            "      {\n",
            "        \"stock_name\": \"POSCO\",\n",
            "        \"ticker_symbol\": \"005490.KS\",\n",
            "        \"market_name\": \"KOSPI\"\n",
            "      }\n",
            "    ]\n",
            "  }\n",
            "]\n",
            "-------------\n",
            "\n",
            "3. Title: 장카설이요? ㅎ...” 엔믹스 설윤에게 장카설에 대해 묻다 (ft. happy 보컬차력쇼)ㅣ동네스타K4 EP.21 - YouTube\n",
            "URL: URL: https://www.youtube.com/watch?v=ySpb46dUxe4&t=1138s\n",
            "\n",
            "[\n",
            "  {\n",
            "    \"status\": true,\n",
            "    \"stocks\": [\n",
            "      {\n",
            "        \"stock_name\": \"JYP Entertainment Corporation\",\n",
            "        \"ticker_symbol\": \"035900.KS\",\n",
            "        \"market_name\": \"KOSPI\"\n",
            "      },\n",
            "      {\n",
            "        \"stock_name\": \"HYBE Co., Ltd.\",\n",
            "        \"ticker_symbol\": \"352820.KS\",\n",
            "        \"market_name\": \"KOSPI\"\n",
            "      },\n",
            "      {\n",
            "        \"stock_name\": \"Warner Music Group Corp.\",\n",
            "        \"ticker_symbol\": \"WMG\",\n",
            "        \"market_name\": \"NASDAQ\"\n",
            "      }\n",
            "    ]\n",
            "  }\n",
            "]\n",
            "-------------\n",
            "\n",
            "4. Title: 한국 온 샘 올트먼 \"미리 발표하고 싶지 않지만…\" '720조 프로젝트' 올라타라고? / SBS / 모아보는 뉴스 - YouTube\n",
            "URL: URL: https://www.youtube.com/watch?v=ubQLa0z1I3I\n",
            "\n",
            "[\n",
            "  {\n",
            "    \"status\": true,\n",
            "    \"stocks\": [\n",
            "      {\n",
            "        \"stock_name\": \"Samsung Electronics Co., Ltd.\",\n",
            "        \"ticker_symbol\": \"005930.KS\",\n",
            "        \"market_name\": \"KOSPI\"\n",
            "      },\n",
            "      {\n",
            "        \"stock_name\": \"SoftBank Group Corp.\",\n",
            "        \"ticker_symbol\": \"9984.T\",\n",
            "        \"market_name\": \"NASDAQ\"\n",
            "      },\n",
            "      {\n",
            "        \"stock_name\": \"NVIDIA Corporation\",\n",
            "        \"ticker_symbol\": \"NVDA\",\n",
            "        \"market_name\": \"NASDAQ\"\n",
            "      }\n",
            "    ]\n",
            "  }\n",
            "]\n",
            "-------------\n",
            "\n",
            "5. Title: BLACKPINK 지수 vs BMI 지수! 월드 클래스일수록 이 악물고 도발하는 토크쇼 | 딱대EP27 지수 - YouTube\n",
            "URL: URL: https://www.youtube.com/watch?v=mjeyFXdOz0k&t=662s\n",
            "\n",
            "[\n",
            "  {\n",
            "    \"status\": true,\n",
            "    \"stocks\": [\n",
            "      {\n",
            "        \"stock_name\": \"YG Entertainment Inc.\",\n",
            "        \"ticker_symbol\": \"122870.KS\",\n",
            "        \"market_name\": \"KOSPI\"\n",
            "      },\n",
            "      {\n",
            "        \"stock_name\": \"Apple Inc.\",\n",
            "        \"ticker_symbol\": \"AAPL\",\n",
            "        \"market_name\": \"NASDAQ\"\n",
            "      },\n",
            "      {\n",
            "        \"stock_name\": \"Spotify Technology S.A.\",\n",
            "        \"ticker_symbol\": \"SPOT\",\n",
            "        \"market_name\": \"NYSE\"\n",
            "      }\n",
            "    ]\n",
            "  }\n",
            "]\n",
            "-------------\n",
            "\n"
          ]
        }
      ],
      "source": [
        "import json\n",
        "\n",
        "SEP = \"[SEP]\"\n",
        "\n",
        "stock_generator = mvp_chain(final_prompt, \"gpt-4o-mini\")\n",
        "\n",
        "print(\"Test Start!\")\n",
        "for i in range(len(df)):\n",
        "  given_title =  \"Title: \" +title[i]\n",
        "  given_url = \"URL: \" + url[i]\n",
        "  given_text = \"Page Information: \" + cleaned_text[i]\n",
        "  user_input = given_title + SEP + given_url + SEP + given_text\n",
        "  print(f\"{i+1}. {given_title}\")\n",
        "  print(f\"URL: {given_url}\")\n",
        "  print()\n",
        "  # print(json.loads(stock_generator.invoke({\"input\": user_input})))\n",
        "  print(stock_generator.invoke({\"input\": user_input}))\n",
        "  print(\"-------------\")\n",
        "  print(\"\")\n"
      ]
    }
  ],
  "metadata": {
    "colab": {
      "provenance": []
    },
    "kernelspec": {
      "display_name": "Python 3",
      "name": "python3"
    },
    "language_info": {
      "name": "python"
    }
  },
  "nbformat": 4,
  "nbformat_minor": 0
}
